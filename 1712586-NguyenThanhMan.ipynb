{
 "cells": [
  {
   "cell_type": "markdown",
   "metadata": {},
   "source": [
    "# Đồ án cuối kì\n",
    "Họ tên: Nguyễn Thanh Mẫn\n",
    "\n",
    "MSSV: 1712586"
   ]
  },
  {
   "cell_type": "markdown",
   "metadata": {},
   "source": [
    "---"
   ]
  },
  {
   "cell_type": "markdown",
   "metadata": {},
   "source": [
    "## Import"
   ]
  },
  {
   "cell_type": "code",
   "execution_count": 1,
   "metadata": {},
   "outputs": [],
   "source": [
    "import numpy\n",
    "import pandas\n",
    "import matplotlib.pyplot as plt\n",
    "from sklearn.linear_model import LinearRegression"
   ]
  },
  {
   "cell_type": "markdown",
   "metadata": {},
   "source": [
    "## Lấy dữ liệu"
   ]
  },
  {
   "cell_type": "markdown",
   "metadata": {},
   "source": [
    "- Dữ liệu được sử dụng trong đồ án là thống kê về số lượng vụ tự sát trong các thành phố ở mỗi năm, được phân chia thành từng nhóm giới tính và độ tuổi khác nhau, kèm theo dân số của từng nhóm và một số thông tin về sự phát triển của thành phố đó trong năm. Nguồn của dữ liệu được lấy tại [đây](https://www.kaggle.com/russellyates88/suicide-rates-overview-1985-to-2016?select=master.csv).\n",
    "\n",
    "- License ở [đây](https://www.worldbank.org/en/about/legal/terms-of-use-for-datasets).\n",
    "\n",
    "- Dữ liệu được thu thập từ 4 nguồn khác nhau:\n",
    "\n",
    "    - [UNDP's Human development index (2018)](http://hdr.undp.org/en/indicators/137506)\n",
    "\n",
    "    - [World Bank's World development indicators: GDP (current US$) by country: 1985 to 2016 (2018)](http://databank.worldbank.org/data/source/world-development-indicators#)\n",
    "\n",
    "    - [Szamil's Suicide in the Twenty-First Century dataset (2017)](https://www.kaggle.com/szamil/suicide-in-the-twenty-first-century/notebook)\n",
    "\n",
    "    - [World Health Organization's Suicide prevention](http://www.who.int/mental_health/suicide-prevention/en/)"
   ]
  },
  {
   "cell_type": "markdown",
   "metadata": {},
   "source": [
    "## Khám phá dữ liệu"
   ]
  },
  {
   "cell_type": "markdown",
   "metadata": {},
   "source": [
    "### Đọc dữ liệu từ file csv vào dataframe"
   ]
  },
  {
   "cell_type": "code",
   "execution_count": 2,
   "metadata": {},
   "outputs": [
    {
     "data": {
      "text/html": [
       "<div>\n",
       "<style scoped>\n",
       "    .dataframe tbody tr th:only-of-type {\n",
       "        vertical-align: middle;\n",
       "    }\n",
       "\n",
       "    .dataframe tbody tr th {\n",
       "        vertical-align: top;\n",
       "    }\n",
       "\n",
       "    .dataframe thead th {\n",
       "        text-align: right;\n",
       "    }\n",
       "</style>\n",
       "<table border=\"1\" class=\"dataframe\">\n",
       "  <thead>\n",
       "    <tr style=\"text-align: right;\">\n",
       "      <th></th>\n",
       "      <th>country</th>\n",
       "      <th>year</th>\n",
       "      <th>sex</th>\n",
       "      <th>age</th>\n",
       "      <th>suicides_no</th>\n",
       "      <th>population</th>\n",
       "      <th>suicides/100k pop</th>\n",
       "      <th>country-year</th>\n",
       "      <th>HDI for year</th>\n",
       "      <th>gdp_for_year ($)</th>\n",
       "      <th>gdp_per_capita ($)</th>\n",
       "      <th>generation</th>\n",
       "    </tr>\n",
       "  </thead>\n",
       "  <tbody>\n",
       "    <tr>\n",
       "      <th>0</th>\n",
       "      <td>Albania</td>\n",
       "      <td>1987</td>\n",
       "      <td>male</td>\n",
       "      <td>15-24 years</td>\n",
       "      <td>21</td>\n",
       "      <td>312900</td>\n",
       "      <td>6.71</td>\n",
       "      <td>Albania1987</td>\n",
       "      <td>NaN</td>\n",
       "      <td>2,156,624,900</td>\n",
       "      <td>796</td>\n",
       "      <td>Generation X</td>\n",
       "    </tr>\n",
       "    <tr>\n",
       "      <th>1</th>\n",
       "      <td>Albania</td>\n",
       "      <td>1987</td>\n",
       "      <td>male</td>\n",
       "      <td>35-54 years</td>\n",
       "      <td>16</td>\n",
       "      <td>308000</td>\n",
       "      <td>5.19</td>\n",
       "      <td>Albania1987</td>\n",
       "      <td>NaN</td>\n",
       "      <td>2,156,624,900</td>\n",
       "      <td>796</td>\n",
       "      <td>Silent</td>\n",
       "    </tr>\n",
       "    <tr>\n",
       "      <th>2</th>\n",
       "      <td>Albania</td>\n",
       "      <td>1987</td>\n",
       "      <td>female</td>\n",
       "      <td>15-24 years</td>\n",
       "      <td>14</td>\n",
       "      <td>289700</td>\n",
       "      <td>4.83</td>\n",
       "      <td>Albania1987</td>\n",
       "      <td>NaN</td>\n",
       "      <td>2,156,624,900</td>\n",
       "      <td>796</td>\n",
       "      <td>Generation X</td>\n",
       "    </tr>\n",
       "    <tr>\n",
       "      <th>3</th>\n",
       "      <td>Albania</td>\n",
       "      <td>1987</td>\n",
       "      <td>male</td>\n",
       "      <td>75+ years</td>\n",
       "      <td>1</td>\n",
       "      <td>21800</td>\n",
       "      <td>4.59</td>\n",
       "      <td>Albania1987</td>\n",
       "      <td>NaN</td>\n",
       "      <td>2,156,624,900</td>\n",
       "      <td>796</td>\n",
       "      <td>G.I. Generation</td>\n",
       "    </tr>\n",
       "    <tr>\n",
       "      <th>4</th>\n",
       "      <td>Albania</td>\n",
       "      <td>1987</td>\n",
       "      <td>male</td>\n",
       "      <td>25-34 years</td>\n",
       "      <td>9</td>\n",
       "      <td>274300</td>\n",
       "      <td>3.28</td>\n",
       "      <td>Albania1987</td>\n",
       "      <td>NaN</td>\n",
       "      <td>2,156,624,900</td>\n",
       "      <td>796</td>\n",
       "      <td>Boomers</td>\n",
       "    </tr>\n",
       "  </tbody>\n",
       "</table>\n",
       "</div>"
      ],
      "text/plain": [
       "   country  year     sex          age  suicides_no  population  \\\n",
       "0  Albania  1987    male  15-24 years           21      312900   \n",
       "1  Albania  1987    male  35-54 years           16      308000   \n",
       "2  Albania  1987  female  15-24 years           14      289700   \n",
       "3  Albania  1987    male    75+ years            1       21800   \n",
       "4  Albania  1987    male  25-34 years            9      274300   \n",
       "\n",
       "   suicides/100k pop country-year  HDI for year  gdp_for_year ($)   \\\n",
       "0               6.71  Albania1987           NaN      2,156,624,900   \n",
       "1               5.19  Albania1987           NaN      2,156,624,900   \n",
       "2               4.83  Albania1987           NaN      2,156,624,900   \n",
       "3               4.59  Albania1987           NaN      2,156,624,900   \n",
       "4               3.28  Albania1987           NaN      2,156,624,900   \n",
       "\n",
       "   gdp_per_capita ($)       generation  \n",
       "0                 796     Generation X  \n",
       "1                 796           Silent  \n",
       "2                 796     Generation X  \n",
       "3                 796  G.I. Generation  \n",
       "4                 796          Boomers  "
      ]
     },
     "execution_count": 2,
     "metadata": {},
     "output_type": "execute_result"
    }
   ],
   "source": [
    "df = pd.read_csv('master.csv')\n",
    "df.head()"
   ]
  },
  {
   "cell_type": "markdown",
   "metadata": {},
   "source": [
    "### Dữ liệu gồm có bao nhiêu dòng và bao nhiêu cột?"
   ]
  },
  {
   "cell_type": "code",
   "execution_count": 3,
   "metadata": {},
   "outputs": [
    {
     "name": "stdout",
     "output_type": "stream",
     "text": [
      "Dataset has 27820 rows and 12 cols\n"
     ]
    }
   ],
   "source": [
    "num_rows, num_cols = df.shape\n",
    "print(\"Dataset has {0} rows and {1} cols\".format(num_rows, num_cols))"
   ]
  },
  {
   "cell_type": "markdown",
   "metadata": {},
   "source": [
    "### Mỗi dòng và mỗi cột có ý nghĩa gì?"
   ]
  },
  {
   "cell_type": "markdown",
   "metadata": {},
   "source": [
    "Mô tả về các cột của file \"who_suicide_statistics.csv\":\n",
    "- **country**: thành phố của nước Ma-rốc.\n",
    "- **year**: năm từ 1990 đến 2017.\n",
    "- **sex**: giới tính, gồm nam (male) và nữ (female).\n",
    "- **age**: nhóm tuổi.\n",
    "- **suicides_no**: số lượng vụ tự sát.\n",
    "- **population**: dân số thuộc nhóm tuổi và thành phố đó.\n",
    "Mỗi dòng là số liệu thống kê các vụ tự sát trong mỗi thành phố, nhóm tuổi và năm.\n",
    "- **suicides/100k pop**: tỉ lệ tự sát của nhóm tuổi đó trên 100 000 người.\n",
    "- **country-year**: ghép giữa 2 cột **country** và **year** (cột này có vẻ không cần thiết nên sẽ lược bỏ trong bước tiền xử lý).\n",
    "- **HDI for year**: chỉ số phát triển con người trong năm của thành phố đó ([Chỉ số phát triển con người là gì?](https://vi.wikipedia.org/wiki/Ch%E1%BB%89_s%E1%BB%91_ph%C3%A1t_tri%E1%BB%83n_con_ng%C6%B0%E1%BB%9Di)).\n",
    "- **gdp_for_year**: chỉ số GDP trong năm của thành phố đó.\n",
    "- **gdp_per_capita**: chỉ số GDP/ người.\n",
    "- **generation**: thế hệ thuộc nhóm tuổi tương ứng (cột này có vẻ không cần thiết nên sẽ lược bỏ trong bước tiền xử lý).\n",
    "\n",
    "Mỗi dòng là thống kê các vụ tự sát và thông tin về sự phát triển của mỗi nhóm tuổi sống trong một thành phố trong mỗi năm."
   ]
  },
  {
   "cell_type": "markdown",
   "metadata": {},
   "source": [
    "### Mỗi cột có dtype là gì?"
   ]
  },
  {
   "cell_type": "code",
   "execution_count": 4,
   "metadata": {},
   "outputs": [
    {
     "data": {
      "text/plain": [
       "country                object\n",
       "year                    int64\n",
       "sex                    object\n",
       "age                    object\n",
       "suicides_no             int64\n",
       "population              int64\n",
       "suicides/100k pop     float64\n",
       "country-year           object\n",
       "HDI for year          float64\n",
       " gdp_for_year ($)      object\n",
       "gdp_per_capita ($)      int64\n",
       "generation             object\n",
       "dtype: object"
      ]
     },
     "execution_count": 4,
     "metadata": {},
     "output_type": "execute_result"
    }
   ],
   "source": [
    "col_dtypes = df.dtypes\n",
    "col_dtypes"
   ]
  },
  {
   "cell_type": "markdown",
   "metadata": {},
   "source": [
    "## Tiền xử lý"
   ]
  },
  {
   "cell_type": "markdown",
   "metadata": {},
   "source": [
    "### Bỏ cột country-year và cột generation"
   ]
  },
  {
   "cell_type": "code",
   "execution_count": 5,
   "metadata": {},
   "outputs": [],
   "source": [
    "df.drop(columns=['country-year', 'generation'], inplace=True)"
   ]
  },
  {
   "cell_type": "markdown",
   "metadata": {},
   "source": [
    "### Chỉnh lại tên của các cột cho hợp lý"
   ]
  },
  {
   "cell_type": "code",
   "execution_count": 6,
   "metadata": {},
   "outputs": [],
   "source": [
    "df.rename(columns={\n",
    "    df.columns[2]: 'gender',\n",
    "    df.columns[4]: 'nsuicides',\n",
    "    df.columns[6]: 'crudeRate',\n",
    "    df.columns[7]: 'HDIyear',\n",
    "    df.columns[8]: 'GDPyear',\n",
    "    df.columns[9]: 'GDPcap'\n",
    "},\n",
    "          inplace=True)"
   ]
  },
  {
   "cell_type": "markdown",
   "metadata": {},
   "source": [
    "### Bỏ hậu tố ' years' trong các phần tử của cột \"age\""
   ]
  },
  {
   "cell_type": "code",
   "execution_count": 7,
   "metadata": {},
   "outputs": [],
   "source": [
    "df.age = df.age.str.replace(' years', '')"
   ]
  },
  {
   "cell_type": "markdown",
   "metadata": {},
   "source": [
    "### Sửa các phần tử \"5-14\" trong cột \"age\" thành \"05-14\" để dễ sort"
   ]
  },
  {
   "cell_type": "code",
   "execution_count": 8,
   "metadata": {},
   "outputs": [],
   "source": [
    "df.loc[df.age == '5-14', 'age'] = '05-14'"
   ]
  },
  {
   "cell_type": "markdown",
   "metadata": {},
   "source": [
    "### Chỉnh dtype của cột \"GDPyear\" thành dạng numeric"
   ]
  },
  {
   "cell_type": "markdown",
   "metadata": {},
   "source": [
    "Cột \"GDPyear\" đang có dtype là object, để chuyển thành dạng numeric trước tiên ta cần loại bỏ các dấu phẩy của tất cả các hàng trong cột"
   ]
  },
  {
   "cell_type": "code",
   "execution_count": 9,
   "metadata": {},
   "outputs": [],
   "source": [
    "df.GDPyear = df.GDPyear.str.replace(',', '')"
   ]
  },
  {
   "cell_type": "markdown",
   "metadata": {},
   "source": [
    "Sau khi bỏ hết dấu phẩy, dùng `pd.to_numeric` để chuyển dtype thành dạng numeric"
   ]
  },
  {
   "cell_type": "code",
   "execution_count": 10,
   "metadata": {},
   "outputs": [],
   "source": [
    "df.GDPyear = pd.to_numeric(df.GDPyear)"
   ]
  },
  {
   "cell_type": "markdown",
   "metadata": {},
   "source": [
    "## Quay lại bước khám phá dữ liệu"
   ]
  },
  {
   "cell_type": "code",
   "execution_count": 11,
   "metadata": {},
   "outputs": [
    {
     "name": "stdout",
     "output_type": "stream",
     "text": [
      "<class 'pandas.core.frame.DataFrame'>\n",
      "RangeIndex: 27820 entries, 0 to 27819\n",
      "Data columns (total 10 columns):\n",
      " #   Column      Non-Null Count  Dtype  \n",
      "---  ------      --------------  -----  \n",
      " 0   country     27820 non-null  object \n",
      " 1   year        27820 non-null  int64  \n",
      " 2   gender      27820 non-null  object \n",
      " 3   age         27820 non-null  object \n",
      " 4   nsuicides   27820 non-null  int64  \n",
      " 5   population  27820 non-null  int64  \n",
      " 6   crudeRate   27820 non-null  float64\n",
      " 7   HDIyear     8364 non-null   float64\n",
      " 8   GDPyear     27820 non-null  int64  \n",
      " 9   GDPcap      27820 non-null  int64  \n",
      "dtypes: float64(2), int64(5), object(3)\n",
      "memory usage: 2.1+ MB\n"
     ]
    }
   ],
   "source": [
    "df.info()"
   ]
  },
  {
   "cell_type": "markdown",
   "metadata": {},
   "source": [
    "### Các cột dạng numeric có miền giá trị như thế nào?"
   ]
  },
  {
   "cell_type": "markdown",
   "metadata": {},
   "source": [
    "Hiện đang có $6$ cột có dạng numeric. Miền giá trị của từng cột sẽ được lưu vào dataframe `col_ranges_df` có $2$ dòng là \"min\", \"max\" và $7$ cột là  \"nsuicides\", \"population\", \"crudeRate\", \"HDIyear\", \"GDPyear\", \"GDPcap\"."
   ]
  },
  {
   "cell_type": "code",
   "execution_count": 12,
   "metadata": {},
   "outputs": [
    {
     "data": {
      "text/html": [
       "<div>\n",
       "<style scoped>\n",
       "    .dataframe tbody tr th:only-of-type {\n",
       "        vertical-align: middle;\n",
       "    }\n",
       "\n",
       "    .dataframe tbody tr th {\n",
       "        vertical-align: top;\n",
       "    }\n",
       "\n",
       "    .dataframe thead th {\n",
       "        text-align: right;\n",
       "    }\n",
       "</style>\n",
       "<table border=\"1\" class=\"dataframe\">\n",
       "  <thead>\n",
       "    <tr style=\"text-align: right;\">\n",
       "      <th></th>\n",
       "      <th>nsuicides</th>\n",
       "      <th>population</th>\n",
       "      <th>crudeRate</th>\n",
       "      <th>HDIyear</th>\n",
       "      <th>GDPyear</th>\n",
       "      <th>GDPcap</th>\n",
       "    </tr>\n",
       "  </thead>\n",
       "  <tbody>\n",
       "    <tr>\n",
       "      <th>min</th>\n",
       "      <td>0</td>\n",
       "      <td>278</td>\n",
       "      <td>0.00</td>\n",
       "      <td>0.483</td>\n",
       "      <td>46919625</td>\n",
       "      <td>251</td>\n",
       "    </tr>\n",
       "    <tr>\n",
       "      <th>max</th>\n",
       "      <td>22338</td>\n",
       "      <td>43805214</td>\n",
       "      <td>224.97</td>\n",
       "      <td>0.944</td>\n",
       "      <td>18120714000000</td>\n",
       "      <td>126352</td>\n",
       "    </tr>\n",
       "  </tbody>\n",
       "</table>\n",
       "</div>"
      ],
      "text/plain": [
       "     nsuicides  population  crudeRate  HDIyear         GDPyear  GDPcap\n",
       "min          0         278       0.00    0.483        46919625     251\n",
       "max      22338    43805214     224.97    0.944  18120714000000  126352"
      ]
     },
     "execution_count": 12,
     "metadata": {},
     "output_type": "execute_result"
    }
   ],
   "source": [
    "numeric_cols = [\n",
    "    \"nsuicides\", \"population\", \"crudeRate\", \"HDIyear\", \"GDPyear\", \"GDPcap\"\n",
    "]\n",
    "col_ranges_df = pd.DataFrame()\n",
    "col_ranges_df['min'] = df[numeric_cols].min()\n",
    "col_ranges_df['max'] = df[numeric_cols].max()\n",
    "col_ranges_df = col_ranges_df.T.astype(df[numeric_cols].dtypes.to_dict())\n",
    "col_ranges_df"
   ]
  },
  {
   "cell_type": "markdown",
   "metadata": {},
   "source": [
    "### Các cột dạng categorical có các giá trị nào? "
   ]
  },
  {
   "cell_type": "markdown",
   "metadata": {},
   "source": [
    "Các cột dạng categorical: \"year\", \"country\", \"gender\", \"age\", \"generation\". Các giá trị của cột sẽ được lưu vào dataframe `cat_col_ranges_df` có $2$ dòng là \"NumUniqueVals\", \"SomeFirstVals và $4$ cột \"year\", \"country\", \"gender\", \"age\"."
   ]
  },
  {
   "cell_type": "code",
   "execution_count": 13,
   "metadata": {},
   "outputs": [
    {
     "data": {
      "text/html": [
       "<div>\n",
       "<style scoped>\n",
       "    .dataframe tbody tr th:only-of-type {\n",
       "        vertical-align: middle;\n",
       "    }\n",
       "\n",
       "    .dataframe tbody tr th {\n",
       "        vertical-align: top;\n",
       "    }\n",
       "\n",
       "    .dataframe thead th {\n",
       "        text-align: right;\n",
       "    }\n",
       "</style>\n",
       "<table border=\"1\" class=\"dataframe\">\n",
       "  <thead>\n",
       "    <tr style=\"text-align: right;\">\n",
       "      <th></th>\n",
       "      <th>year</th>\n",
       "      <th>country</th>\n",
       "      <th>gender</th>\n",
       "      <th>age</th>\n",
       "    </tr>\n",
       "  </thead>\n",
       "  <tbody>\n",
       "    <tr>\n",
       "      <th>NumUniqueVals</th>\n",
       "      <td>32</td>\n",
       "      <td>101</td>\n",
       "      <td>2</td>\n",
       "      <td>6</td>\n",
       "    </tr>\n",
       "    <tr>\n",
       "      <th>SomeFirstVals</th>\n",
       "      <td>[1985, 1986, 1987]</td>\n",
       "      <td>[Albania, Antigua and Barbuda, Argentina]</td>\n",
       "      <td>[female, male]</td>\n",
       "      <td>[05-14, 15-24, 25-34]</td>\n",
       "    </tr>\n",
       "  </tbody>\n",
       "</table>\n",
       "</div>"
      ],
      "text/plain": [
       "                             year                                    country  \\\n",
       "NumUniqueVals                  32                                        101   \n",
       "SomeFirstVals  [1985, 1986, 1987]  [Albania, Antigua and Barbuda, Argentina]   \n",
       "\n",
       "                       gender                    age  \n",
       "NumUniqueVals               2                      6  \n",
       "SomeFirstVals  [female, male]  [05-14, 15-24, 25-34]  "
      ]
     },
     "execution_count": 13,
     "metadata": {},
     "output_type": "execute_result"
    }
   ],
   "source": [
    "cat_cols = [\"year\", \"country\", \"gender\", \"age\"]\n",
    "cat_col_ranges_df = pd.DataFrame(columns=cat_cols)\n",
    "cat_col_ranges_df.loc[\"NumUniqueVals\"] = [\n",
    "    df[col].nunique() for col in cat_col_ranges_df.columns\n",
    "]\n",
    "cat_col_ranges_df.loc[\"SomeFirstVals\"] = [\n",
    "    np.sort(df[col].unique())[:3].tolist() for col in cat_col_ranges_df.columns\n",
    "]\n",
    "cat_col_ranges_df"
   ]
  },
  {
   "cell_type": "markdown",
   "metadata": {},
   "source": [
    "### Mỗi cột có bao nhiêu phần trăm giá trị thiếu?"
   ]
  },
  {
   "cell_type": "code",
   "execution_count": 14,
   "metadata": {},
   "outputs": [
    {
     "data": {
      "text/plain": [
       "country        0.0\n",
       "year           0.0\n",
       "gender         0.0\n",
       "age            0.0\n",
       "nsuicides      0.0\n",
       "population     0.0\n",
       "crudeRate      0.0\n",
       "HDIyear       69.9\n",
       "GDPyear        0.0\n",
       "GDPcap         0.0\n",
       "dtype: float64"
      ]
     },
     "execution_count": 14,
     "metadata": {},
     "output_type": "execute_result"
    }
   ],
   "source": [
    "col_num_nans = np.round(df.isnull().mean() * 100, 1)\n",
    "col_num_nans"
   ]
  },
  {
   "cell_type": "markdown",
   "metadata": {},
   "source": [
    "Cột \"HDIyear\" bị thiếu khá nhiều (số giá trị thiếu lên tới gần $70\\%$) nên ta sẽ bỏ cột này"
   ]
  },
  {
   "cell_type": "code",
   "execution_count": 15,
   "metadata": {},
   "outputs": [],
   "source": [
    "df.drop(columns='HDIyear', inplace=True)"
   ]
  },
  {
   "cell_type": "markdown",
   "metadata": {},
   "source": [
    "---"
   ]
  },
  {
   "cell_type": "markdown",
   "metadata": {},
   "source": [
    "## Đưa ra các câu hỏi cần trả lời"
   ]
  },
  {
   "cell_type": "markdown",
   "metadata": {},
   "source": [
    "### <span class=\"burk\">Câu hỏi 1</span> ***Trong mỗi năm, thành phố nào có tỉ lệ tự sát cao nhất, thành phố nào có tỉ lệ tự sát thấp nhất?***"
   ]
  },
  {
   "cell_type": "markdown",
   "metadata": {},
   "source": [
    "#### Tính crudeRateGeneral"
   ]
  },
  {
   "cell_type": "markdown",
   "metadata": {},
   "source": [
    "Để tính tỉ lệ tự sát cho toàn dân số thuộc tất cả các nhóm tuổi của mỗi thành phố trong một năm, ta dùng `df.groupby` theo `country` và `year` rồi tính tổng số ca tự sát chia cho tổng số dân rồi nhân cho $100000$."
   ]
  },
  {
   "cell_type": "code",
   "execution_count": 16,
   "metadata": {},
   "outputs": [],
   "source": [
    "gb_df = df.groupby(['country', 'year'])\n",
    "crudeRateGeneral = (gb_df.nsuicides.sum() /\n",
    "                    (gb_df.population.sum() / 100000)).unstack()"
   ]
  },
  {
   "cell_type": "markdown",
   "metadata": {},
   "source": [
    "#### Trả lời câu hỏi:"
   ]
  },
  {
   "cell_type": "markdown",
   "metadata": {},
   "source": [
    "Câu trả lời được biểu diễn bằng dataframe `extreme_countries` có 2 cột là \"Country with highest rate\", \"Country with lowest rate\" và các dòng là năm. Mỗi giá trị được đi kèm với tỉ lệ tự sát của thành phố đó trong năm."
   ]
  },
  {
   "cell_type": "code",
   "execution_count": 17,
   "metadata": {
    "scrolled": true
   },
   "outputs": [
    {
     "data": {
      "text/html": [
       "<div>\n",
       "<style scoped>\n",
       "    .dataframe tbody tr th:only-of-type {\n",
       "        vertical-align: middle;\n",
       "    }\n",
       "\n",
       "    .dataframe tbody tr th {\n",
       "        vertical-align: top;\n",
       "    }\n",
       "\n",
       "    .dataframe thead th {\n",
       "        text-align: right;\n",
       "    }\n",
       "</style>\n",
       "<table border=\"1\" class=\"dataframe\">\n",
       "  <thead>\n",
       "    <tr style=\"text-align: right;\">\n",
       "      <th></th>\n",
       "      <th>Country with highest rate</th>\n",
       "      <th>Country with lowest rate</th>\n",
       "    </tr>\n",
       "  </thead>\n",
       "  <tbody>\n",
       "    <tr>\n",
       "      <th>1985</th>\n",
       "      <td>Sri Lanka (40.9)</td>\n",
       "      <td>Antigua and Barbuda (0.0)</td>\n",
       "    </tr>\n",
       "    <tr>\n",
       "      <th>1986</th>\n",
       "      <td>Sri Lanka (37.9)</td>\n",
       "      <td>Antigua and Barbuda (0.0)</td>\n",
       "    </tr>\n",
       "    <tr>\n",
       "      <th>1987</th>\n",
       "      <td>Finland (29.5)</td>\n",
       "      <td>Antigua and Barbuda (0.0)</td>\n",
       "    </tr>\n",
       "    <tr>\n",
       "      <th>1988</th>\n",
       "      <td>Finland (30.3)</td>\n",
       "      <td>Antigua and Barbuda (0.0)</td>\n",
       "    </tr>\n",
       "    <tr>\n",
       "      <th>1989</th>\n",
       "      <td>Finland (30.4)</td>\n",
       "      <td>Antigua and Barbuda (0.0)</td>\n",
       "    </tr>\n",
       "    <tr>\n",
       "      <th>1990</th>\n",
       "      <td>Finland (32.3)</td>\n",
       "      <td>Saint Kitts and Nevis (0.0)</td>\n",
       "    </tr>\n",
       "    <tr>\n",
       "      <th>1991</th>\n",
       "      <td>Hungary (40.9)</td>\n",
       "      <td>Antigua and Barbuda (0.0)</td>\n",
       "    </tr>\n",
       "    <tr>\n",
       "      <th>1992</th>\n",
       "      <td>Hungary (41.0)</td>\n",
       "      <td>Antigua and Barbuda (0.0)</td>\n",
       "    </tr>\n",
       "    <tr>\n",
       "      <th>1993</th>\n",
       "      <td>Russian Federation (40.6)</td>\n",
       "      <td>Belize (0.6)</td>\n",
       "    </tr>\n",
       "    <tr>\n",
       "      <th>1994</th>\n",
       "      <td>Russian Federation (44.4)</td>\n",
       "      <td>Antigua and Barbuda (0.0)</td>\n",
       "    </tr>\n",
       "    <tr>\n",
       "      <th>1995</th>\n",
       "      <td>Lithuania (50.0)</td>\n",
       "      <td>Antigua and Barbuda (0.0)</td>\n",
       "    </tr>\n",
       "    <tr>\n",
       "      <th>1996</th>\n",
       "      <td>Lithuania (51.0)</td>\n",
       "      <td>South Africa (0.4)</td>\n",
       "    </tr>\n",
       "    <tr>\n",
       "      <th>1997</th>\n",
       "      <td>Lithuania (48.5)</td>\n",
       "      <td>Bahrain (0.0)</td>\n",
       "    </tr>\n",
       "    <tr>\n",
       "      <th>1998</th>\n",
       "      <td>Lithuania (46.3)</td>\n",
       "      <td>Antigua and Barbuda (0.0)</td>\n",
       "    </tr>\n",
       "    <tr>\n",
       "      <th>1999</th>\n",
       "      <td>Lithuania (46.5)</td>\n",
       "      <td>Antigua and Barbuda (0.0)</td>\n",
       "    </tr>\n",
       "    <tr>\n",
       "      <th>2000</th>\n",
       "      <td>Lithuania (49.2)</td>\n",
       "      <td>Kiribati (0.0)</td>\n",
       "    </tr>\n",
       "    <tr>\n",
       "      <th>2001</th>\n",
       "      <td>Lithuania (46.5)</td>\n",
       "      <td>Grenada (0.0)</td>\n",
       "    </tr>\n",
       "    <tr>\n",
       "      <th>2002</th>\n",
       "      <td>Lithuania (47.4)</td>\n",
       "      <td>Antigua and Barbuda (0.0)</td>\n",
       "    </tr>\n",
       "    <tr>\n",
       "      <th>2003</th>\n",
       "      <td>Lithuania (44.7)</td>\n",
       "      <td>Barbados (0.0)</td>\n",
       "    </tr>\n",
       "    <tr>\n",
       "      <th>2004</th>\n",
       "      <td>Lithuania (42.8)</td>\n",
       "      <td>Montenegro (0.0)</td>\n",
       "    </tr>\n",
       "    <tr>\n",
       "      <th>2005</th>\n",
       "      <td>Lithuania (41.5)</td>\n",
       "      <td>Albania (0.0)</td>\n",
       "    </tr>\n",
       "    <tr>\n",
       "      <th>2006</th>\n",
       "      <td>Lithuania (33.6)</td>\n",
       "      <td>Albania (0.0)</td>\n",
       "    </tr>\n",
       "    <tr>\n",
       "      <th>2007</th>\n",
       "      <td>Lithuania (33.2)</td>\n",
       "      <td>Barbados (0.0)</td>\n",
       "    </tr>\n",
       "    <tr>\n",
       "      <th>2008</th>\n",
       "      <td>Lithuania (36.4)</td>\n",
       "      <td>Antigua and Barbuda (0.0)</td>\n",
       "    </tr>\n",
       "    <tr>\n",
       "      <th>2009</th>\n",
       "      <td>Lithuania (37.7)</td>\n",
       "      <td>Albania (0.0)</td>\n",
       "    </tr>\n",
       "    <tr>\n",
       "      <th>2010</th>\n",
       "      <td>Lithuania (34.5)</td>\n",
       "      <td>Grenada (0.0)</td>\n",
       "    </tr>\n",
       "    <tr>\n",
       "      <th>2011</th>\n",
       "      <td>Lithuania (35.3)</td>\n",
       "      <td>Barbados (0.0)</td>\n",
       "    </tr>\n",
       "    <tr>\n",
       "      <th>2012</th>\n",
       "      <td>Lithuania (32.7)</td>\n",
       "      <td>Antigua and Barbuda (0.0)</td>\n",
       "    </tr>\n",
       "    <tr>\n",
       "      <th>2013</th>\n",
       "      <td>Lithuania (38.7)</td>\n",
       "      <td>Antigua and Barbuda (0.0)</td>\n",
       "    </tr>\n",
       "    <tr>\n",
       "      <th>2014</th>\n",
       "      <td>Lithuania (33.4)</td>\n",
       "      <td>Antigua and Barbuda (0.0)</td>\n",
       "    </tr>\n",
       "    <tr>\n",
       "      <th>2015</th>\n",
       "      <td>Lithuania (32.5)</td>\n",
       "      <td>Grenada (0.0)</td>\n",
       "    </tr>\n",
       "    <tr>\n",
       "      <th>2016</th>\n",
       "      <td>Lithuania (33.6)</td>\n",
       "      <td>Grenada (0.0)</td>\n",
       "    </tr>\n",
       "  </tbody>\n",
       "</table>\n",
       "</div>"
      ],
      "text/plain": [
       "      Country with highest rate     Country with lowest rate\n",
       "1985           Sri Lanka (40.9)    Antigua and Barbuda (0.0)\n",
       "1986           Sri Lanka (37.9)    Antigua and Barbuda (0.0)\n",
       "1987             Finland (29.5)    Antigua and Barbuda (0.0)\n",
       "1988             Finland (30.3)    Antigua and Barbuda (0.0)\n",
       "1989             Finland (30.4)    Antigua and Barbuda (0.0)\n",
       "1990             Finland (32.3)  Saint Kitts and Nevis (0.0)\n",
       "1991             Hungary (40.9)    Antigua and Barbuda (0.0)\n",
       "1992             Hungary (41.0)    Antigua and Barbuda (0.0)\n",
       "1993  Russian Federation (40.6)                 Belize (0.6)\n",
       "1994  Russian Federation (44.4)    Antigua and Barbuda (0.0)\n",
       "1995           Lithuania (50.0)    Antigua and Barbuda (0.0)\n",
       "1996           Lithuania (51.0)           South Africa (0.4)\n",
       "1997           Lithuania (48.5)                Bahrain (0.0)\n",
       "1998           Lithuania (46.3)    Antigua and Barbuda (0.0)\n",
       "1999           Lithuania (46.5)    Antigua and Barbuda (0.0)\n",
       "2000           Lithuania (49.2)               Kiribati (0.0)\n",
       "2001           Lithuania (46.5)                Grenada (0.0)\n",
       "2002           Lithuania (47.4)    Antigua and Barbuda (0.0)\n",
       "2003           Lithuania (44.7)               Barbados (0.0)\n",
       "2004           Lithuania (42.8)             Montenegro (0.0)\n",
       "2005           Lithuania (41.5)                Albania (0.0)\n",
       "2006           Lithuania (33.6)                Albania (0.0)\n",
       "2007           Lithuania (33.2)               Barbados (0.0)\n",
       "2008           Lithuania (36.4)    Antigua and Barbuda (0.0)\n",
       "2009           Lithuania (37.7)                Albania (0.0)\n",
       "2010           Lithuania (34.5)                Grenada (0.0)\n",
       "2011           Lithuania (35.3)               Barbados (0.0)\n",
       "2012           Lithuania (32.7)    Antigua and Barbuda (0.0)\n",
       "2013           Lithuania (38.7)    Antigua and Barbuda (0.0)\n",
       "2014           Lithuania (33.4)    Antigua and Barbuda (0.0)\n",
       "2015           Lithuania (32.5)                Grenada (0.0)\n",
       "2016           Lithuania (33.6)                Grenada (0.0)"
      ]
     },
     "execution_count": 17,
     "metadata": {},
     "output_type": "execute_result"
    }
   ],
   "source": [
    "# Lấy ra các thuộc tính 'idxmax', 'max', 'idxmin', 'min'\n",
    "extreme_countries = crudeRateGeneral.agg(['idxmax', 'max', 'idxmin', 'min']).T\n",
    "# Làm tròn số cho mỗi cột bằng hàm apply\n",
    "extreme_countries['min'] = extreme_countries['min'].apply(\n",
    "    lambda x: round(x, 1))\n",
    "extreme_countries['max'] = extreme_countries['max'].apply(\n",
    "    lambda x: round(x, 1))\n",
    "# Chỉnh dtype của hai cột số thành str\n",
    "extreme_countries = extreme_countries.astype({\"max\": str, \"min\": str})\n",
    "# Concat cột 'idmax' và 'max', cột 'idxmin' và 'min'\n",
    "extreme_countries['idxmax'] = extreme_countries[\n",
    "    'idxmax'] + ' (' + extreme_countries['max'] + ')'\n",
    "extreme_countries['idxmin'] = extreme_countries[\n",
    "    'idxmin'] + ' (' + extreme_countries['min'] + ')'\n",
    "# Sau khi đã concat, bỏ cột 'min' và 'max'\n",
    "extreme_countries.drop(columns=['min', 'max'], inplace=True)\n",
    "# Chỉnh tên cột cho hợp lý\n",
    "extreme_countries.columns = [\n",
    "    'Country with highest rate', 'Country with lowest rate'\n",
    "]\n",
    "extreme_countries"
   ]
  },
  {
   "cell_type": "markdown",
   "metadata": {},
   "source": [
    "#### Kết luận"
   ]
  },
  {
   "cell_type": "markdown",
   "metadata": {},
   "source": [
    "Đáng chú ý là tỉ lệ tự sát đáng báo động của [Lithuania](https://en.wikipedia.org/wiki/Suicide_in_Lithuania), khi mà nước này là nước có tỉ lệ [cao nhất](https://theculturetrip.com/europe/lithuania/articles/this-country-has-among-the-highest-suicide-rates-in-the-world/) kéo dài từ năm 1995 đến 2016."
   ]
  },
  {
   "cell_type": "markdown",
   "metadata": {},
   "source": [
    "### <span class=\"burk\">Câu hỏi 2</span> ***Qua thời gian, tìm ra 3 thành phố với tỉ lệ tự sát có xu hướng tăng lên mạnh nhất và 3 thành phố với tỉ lệ tự sát có xu hướng giảm xuống mạnh nhất (chỉ xét trong những thành phố có ít nhất 50% dữ liệu hợp lệ)***"
   ]
  },
  {
   "cell_type": "markdown",
   "metadata": {},
   "source": [
    "Ở câu hỏi này, dĩ nhiên ta không thể vẽ biểu đồ cho tất cả $101$ thành phố được. Vì thế ta sẽ dùng mô hình hồi quy tuyến tính đơn giản \"$y = ax+b$\"  ($y$ là `crudeRateGeneral` còn $x$ là `year`) để đo độ tăng (giảm) của tỉ lệ tự sát qua các năm. Nếu $a$ càng dương thì tỉ lệ tăng càng lớn, nếu $a$ càng âm thì tỉ lệ giảm càng lớn."
   ]
  },
  {
   "cell_type": "markdown",
   "metadata": {},
   "source": [
    "Vì ta chỉ xét những thành phố có ít nhất $50\\%$ dữ liệu hợp lệ, ta chỉ giữ những dòng nào có ít nhất $16$ dữ liệu hợp lệ."
   ]
  },
  {
   "cell_type": "code",
   "execution_count": 18,
   "metadata": {},
   "outputs": [],
   "source": [
    "crudeRateGeneral.dropna(thresh=16, inplace=True)"
   ]
  },
  {
   "cell_type": "markdown",
   "metadata": {},
   "source": [
    "#### Tính $a$ (mức tăng hay giảm tỉ lệ tự sát mỗi thành phố)"
   ]
  },
  {
   "cell_type": "code",
   "execution_count": 19,
   "metadata": {},
   "outputs": [],
   "source": [
    "a = []\n",
    "for i in range(crudeRateGeneral.shape[0]):\n",
    "    # Lọc dòng thứ i (bỏ cột nào có giá trị NaN) rồi lưu vào Y\n",
    "    Y = crudeRateGeneral.iloc[[i]].dropna(axis=1)\n",
    "    # Lấy tên cột của Y lưu vào X\n",
    "    X = np.array(Y.columns)\n",
    "    # Chuyển vị Y rồi thêm cột 1 vào sau\n",
    "    Y = np.array(Y).T\n",
    "    Y = np.hstack((Y, np.ones(Y.shape)))\n",
    "    # Chuyển X thành ma trận 2 chiều\n",
    "    X = X.reshape((Y.shape[0], 1))\n",
    "    # Tìm ra đường hồi quy rồi lấy ra 'a'\n",
    "    a.append((LinearRegression().fit(X, Y).coef_)[0, 0])\n",
    "a = np.array(a)"
   ]
  },
  {
   "cell_type": "markdown",
   "metadata": {},
   "source": [
    "#### Lưu kết quả vào Series `result` rồi sort"
   ]
  },
  {
   "cell_type": "code",
   "execution_count": 20,
   "metadata": {},
   "outputs": [],
   "source": [
    "result = pd.Series(data=a, index=crudeRateGeneral.index)\n",
    "result.sort_values(inplace=True)"
   ]
  },
  {
   "cell_type": "markdown",
   "metadata": {},
   "source": [
    "#### Vẽ biểu đồ"
   ]
  },
  {
   "cell_type": "code",
   "execution_count": 21,
   "metadata": {
    "scrolled": false
   },
   "outputs": [
    {
     "data": {
      "text/plain": [
       "Text(0.5, 0, 'Average suicide crude rate increased or decreased after each year')"
      ]
     },
     "execution_count": 21,
     "metadata": {},
     "output_type": "execute_result"
    },
    {
     "data": {
      "image/png": "[encoded data removed]",
      "text/plain": [
       "<Figure size 504x1800 with 1 Axes>"
      ]
     },
     "metadata": {},
     "output_type": "display_data"
    }
   ],
   "source": [
    "plt.figure(figsize=[7, 25])\n",
    "plt.plot(result.values, result.index, 'o')\n",
    "plt.axvline(x=0, c='r')\n",
    "plt.xlabel(\"Average suicide crude rate increased or decreased after each year\")"
   ]
  },
  {
   "cell_type": "markdown",
   "metadata": {},
   "source": [
    "#### Từ biểu đồ, ta có thể đưa ra câu trả lời cho câu hỏi"
   ]
  },
  {
   "cell_type": "markdown",
   "metadata": {},
   "source": [
    "- Top 3 thành phố / quốc gia với tỉ lệ tự sát có xu hướng tăng mạnh nhất: Hàn Quốc, Guyana và Suriname.\n",
    "- Top 3 thành phố / quốc gia với tỉ lệ tự sát có xu hướng giảm mạnh nhất: Estonia, Latvia, Lithuania."
   ]
  },
  {
   "cell_type": "markdown",
   "metadata": {},
   "source": [
    "Một điểm thú vị là Lithuania dù là nước có tỉ lệ tự sát cao nhất kéo dài từ năm 1995 đến 2016, nhưng lại thuộc top 3 có tỉ lệ tự sát giảm mạnh nhất. Đây là một dấu hiệu đáng mừng cho đất nước này."
   ]
  },
  {
   "cell_type": "markdown",
   "metadata": {},
   "source": [
    "#### Trong số các thành phố có đủ dữ liệu, tỉ lệ thành phố có tỉ lệ tự sát có xu hướng tăng và giảm là bao nhiêu?"
   ]
  },
  {
   "cell_type": "code",
   "execution_count": 22,
   "metadata": {},
   "outputs": [
    {
     "name": "stdout",
     "output_type": "stream",
     "text": [
      "In valid countries: There are about 40.7% with increasing crude rate and about 59.3% with decreasing crude rate\n"
     ]
    }
   ],
   "source": [
    "icr = np.round(np.mean(a > 0) * 100, 1)\n",
    "dcr = np.round(np.mean(a < 0) * 100, 1)\n",
    "print(\n",
    "    \"In valid countries: There are about {0}% with increasing crude rate and about {1}% with decreasing crude rate\"\n",
    "    .format(icr, dcr))"
   ]
  },
  {
   "cell_type": "markdown",
   "metadata": {},
   "source": [
    "Đây có vẻ là con số khả quan khi có nhiều thành phố giảm tỉ lệ tự sát hơn là tăng."
   ]
  },
  {
   "cell_type": "markdown",
   "metadata": {},
   "source": [
    "#### <span class=\"mark\">Câu hỏi nhỏ</span>: Biến `year` và `GDPcap` (trên từng quốc gia có ít nhất $50\\%$ dữ liệu hợp lệ) có quan hệ như thế nào?"
   ]
  },
  {
   "cell_type": "markdown",
   "metadata": {},
   "source": [
    "Để trả lời câu hỏi này, ta cần tính mức độ tuyến tính (correlation coefficent) `r` của hai biến `year` và `GDPcap` trên từng thành phố. Nhưng trước hết ta cần trích ra `GDPcap` của mỗi thành phố cho từng năm và chỉ giữ những thành phố nào có ít nhất $50\\%$ dữ liệu hợp lệ."
   ]
  },
  {
   "cell_type": "code",
   "execution_count": 23,
   "metadata": {
    "scrolled": true
   },
   "outputs": [
    {
     "data": {
      "text/html": [
       "<div>\n",
       "<style scoped>\n",
       "    .dataframe tbody tr th:only-of-type {\n",
       "        vertical-align: middle;\n",
       "    }\n",
       "\n",
       "    .dataframe tbody tr th {\n",
       "        vertical-align: top;\n",
       "    }\n",
       "\n",
       "    .dataframe thead th {\n",
       "        text-align: right;\n",
       "    }\n",
       "</style>\n",
       "<table border=\"1\" class=\"dataframe\">\n",
       "  <thead>\n",
       "    <tr style=\"text-align: right;\">\n",
       "      <th>year</th>\n",
       "      <th>1985</th>\n",
       "      <th>1986</th>\n",
       "      <th>1987</th>\n",
       "      <th>1988</th>\n",
       "      <th>1989</th>\n",
       "      <th>1990</th>\n",
       "      <th>1991</th>\n",
       "      <th>1992</th>\n",
       "      <th>1993</th>\n",
       "      <th>1994</th>\n",
       "      <th>...</th>\n",
       "      <th>2007</th>\n",
       "      <th>2008</th>\n",
       "      <th>2009</th>\n",
       "      <th>2010</th>\n",
       "      <th>2011</th>\n",
       "      <th>2012</th>\n",
       "      <th>2013</th>\n",
       "      <th>2014</th>\n",
       "      <th>2015</th>\n",
       "      <th>2016</th>\n",
       "    </tr>\n",
       "    <tr>\n",
       "      <th>country</th>\n",
       "      <th></th>\n",
       "      <th></th>\n",
       "      <th></th>\n",
       "      <th></th>\n",
       "      <th></th>\n",
       "      <th></th>\n",
       "      <th></th>\n",
       "      <th></th>\n",
       "      <th></th>\n",
       "      <th></th>\n",
       "      <th></th>\n",
       "      <th></th>\n",
       "      <th></th>\n",
       "      <th></th>\n",
       "      <th></th>\n",
       "      <th></th>\n",
       "      <th></th>\n",
       "      <th></th>\n",
       "      <th></th>\n",
       "      <th></th>\n",
       "      <th></th>\n",
       "    </tr>\n",
       "  </thead>\n",
       "  <tbody>\n",
       "    <tr>\n",
       "      <th>Malta</th>\n",
       "      <td>[3639]</td>\n",
       "      <td>[4544]</td>\n",
       "      <td>[5517]</td>\n",
       "      <td>[6295]</td>\n",
       "      <td>[6539]</td>\n",
       "      <td>[7780]</td>\n",
       "      <td>[8313]</td>\n",
       "      <td>[9040]</td>\n",
       "      <td>[8022]</td>\n",
       "      <td>[8775]</td>\n",
       "      <td>...</td>\n",
       "      <td>[20333]</td>\n",
       "      <td>[23007]</td>\n",
       "      <td>[21695]</td>\n",
       "      <td>[22132]</td>\n",
       "      <td>[23984]</td>\n",
       "      <td>[23074]</td>\n",
       "      <td>[25191]</td>\n",
       "      <td>[27634]</td>\n",
       "      <td>[25750]</td>\n",
       "      <td>NaN</td>\n",
       "    </tr>\n",
       "    <tr>\n",
       "      <th>Argentina</th>\n",
       "      <td>[3264]</td>\n",
       "      <td>[4072]</td>\n",
       "      <td>[4026]</td>\n",
       "      <td>[4458]</td>\n",
       "      <td>[2670]</td>\n",
       "      <td>[4859]</td>\n",
       "      <td>[6404]</td>\n",
       "      <td>[7615]</td>\n",
       "      <td>[7768]</td>\n",
       "      <td>[8328]</td>\n",
       "      <td>...</td>\n",
       "      <td>[7918]</td>\n",
       "      <td>[9843]</td>\n",
       "      <td>[8961]</td>\n",
       "      <td>[11273]</td>\n",
       "      <td>[13946]</td>\n",
       "      <td>[14203]</td>\n",
       "      <td>[14206]</td>\n",
       "      <td>[13400]</td>\n",
       "      <td>[14981]</td>\n",
       "      <td>NaN</td>\n",
       "    </tr>\n",
       "    <tr>\n",
       "      <th>Estonia</th>\n",
       "      <td>NaN</td>\n",
       "      <td>NaN</td>\n",
       "      <td>NaN</td>\n",
       "      <td>NaN</td>\n",
       "      <td>NaN</td>\n",
       "      <td>NaN</td>\n",
       "      <td>NaN</td>\n",
       "      <td>NaN</td>\n",
       "      <td>NaN</td>\n",
       "      <td>NaN</td>\n",
       "      <td>...</td>\n",
       "      <td>[17504]</td>\n",
       "      <td>[19141]</td>\n",
       "      <td>[15609]</td>\n",
       "      <td>[15540]</td>\n",
       "      <td>[18545]</td>\n",
       "      <td>[18411]</td>\n",
       "      <td>[20221]</td>\n",
       "      <td>[21117]</td>\n",
       "      <td>[18149]</td>\n",
       "      <td>NaN</td>\n",
       "    </tr>\n",
       "    <tr>\n",
       "      <th>Slovenia</th>\n",
       "      <td>NaN</td>\n",
       "      <td>NaN</td>\n",
       "      <td>NaN</td>\n",
       "      <td>NaN</td>\n",
       "      <td>NaN</td>\n",
       "      <td>NaN</td>\n",
       "      <td>NaN</td>\n",
       "      <td>NaN</td>\n",
       "      <td>NaN</td>\n",
       "      <td>NaN</td>\n",
       "      <td>...</td>\n",
       "      <td>[24964]</td>\n",
       "      <td>[28599]</td>\n",
       "      <td>[25872]</td>\n",
       "      <td>[24689]</td>\n",
       "      <td>[26377]</td>\n",
       "      <td>[23820]</td>\n",
       "      <td>[24697]</td>\n",
       "      <td>[25569]</td>\n",
       "      <td>[22036]</td>\n",
       "      <td>NaN</td>\n",
       "    </tr>\n",
       "    <tr>\n",
       "      <th>United Kingdom</th>\n",
       "      <td>[9231]</td>\n",
       "      <td>[11323]</td>\n",
       "      <td>[13996]</td>\n",
       "      <td>[17072]</td>\n",
       "      <td>[17349]</td>\n",
       "      <td>[20411]</td>\n",
       "      <td>[21201]</td>\n",
       "      <td>[21815]</td>\n",
       "      <td>[19553]</td>\n",
       "      <td>[20927]</td>\n",
       "      <td>...</td>\n",
       "      <td>[53576]</td>\n",
       "      <td>[50111]</td>\n",
       "      <td>[41074]</td>\n",
       "      <td>[41798]</td>\n",
       "      <td>[44491]</td>\n",
       "      <td>[44585]</td>\n",
       "      <td>[45594]</td>\n",
       "      <td>[49906]</td>\n",
       "      <td>[47240]</td>\n",
       "      <td>NaN</td>\n",
       "    </tr>\n",
       "  </tbody>\n",
       "</table>\n",
       "<p>5 rows × 32 columns</p>\n",
       "</div>"
      ],
      "text/plain": [
       "year              1985     1986     1987     1988     1989     1990     1991  \\\n",
       "country                                                                        \n",
       "Malta           [3639]   [4544]   [5517]   [6295]   [6539]   [7780]   [8313]   \n",
       "Argentina       [3264]   [4072]   [4026]   [4458]   [2670]   [4859]   [6404]   \n",
       "Estonia            NaN      NaN      NaN      NaN      NaN      NaN      NaN   \n",
       "Slovenia           NaN      NaN      NaN      NaN      NaN      NaN      NaN   \n",
       "United Kingdom  [9231]  [11323]  [13996]  [17072]  [17349]  [20411]  [21201]   \n",
       "\n",
       "year               1992     1993     1994  ...     2007     2008     2009  \\\n",
       "country                                    ...                              \n",
       "Malta            [9040]   [8022]   [8775]  ...  [20333]  [23007]  [21695]   \n",
       "Argentina        [7615]   [7768]   [8328]  ...   [7918]   [9843]   [8961]   \n",
       "Estonia             NaN      NaN      NaN  ...  [17504]  [19141]  [15609]   \n",
       "Slovenia            NaN      NaN      NaN  ...  [24964]  [28599]  [25872]   \n",
       "United Kingdom  [21815]  [19553]  [20927]  ...  [53576]  [50111]  [41074]   \n",
       "\n",
       "year               2010     2011     2012     2013     2014     2015 2016  \n",
       "country                                                                    \n",
       "Malta           [22132]  [23984]  [23074]  [25191]  [27634]  [25750]  NaN  \n",
       "Argentina       [11273]  [13946]  [14203]  [14206]  [13400]  [14981]  NaN  \n",
       "Estonia         [15540]  [18545]  [18411]  [20221]  [21117]  [18149]  NaN  \n",
       "Slovenia        [24689]  [26377]  [23820]  [24697]  [25569]  [22036]  NaN  \n",
       "United Kingdom  [41798]  [44491]  [44585]  [45594]  [49906]  [47240]  NaN  \n",
       "\n",
       "[5 rows x 32 columns]"
      ]
     },
     "execution_count": 23,
     "metadata": {},
     "output_type": "execute_result"
    }
   ],
   "source": [
    "GDPcap = gb_df.GDPcap.unique().unstack().dropna(thresh=16)\n",
    "GDPcap.sample(5)"
   ]
  },
  {
   "cell_type": "code",
   "execution_count": 24,
   "metadata": {},
   "outputs": [
    {
     "data": {
      "text/plain": [
       "0.8807841076160243"
      ]
     },
     "execution_count": 24,
     "metadata": {},
     "output_type": "execute_result"
    }
   ],
   "source": [
    "avg_r = 0\n",
    "for i in range(GDPcap.shape[0]):\n",
    "    # Trích dòng thứ i, loại bỏ NaN, chuyển list thành số rồi lưu vào X\n",
    "    X = GDPcap.iloc[i].dropna().apply(lambda x: x[0])\n",
    "    # Trích các index của X lưu vào Y\n",
    "    Y = np.array(X.index)\n",
    "    # Đưa X và y về đơn vị chuẩn\n",
    "    X = np.array((X - X.mean()) / X.std())\n",
    "    Y = (Y - Y.mean()) / Y.std()\n",
    "    # Cập nhật giá trị correllation trung bình\n",
    "    avg_r += np.mean(X * Y) / GDPcap.shape[0]\n",
    "avg_r"
   ]
  },
  {
   "cell_type": "markdown",
   "metadata": {},
   "source": [
    "Con số này cho thấy nhìn chung thì biến `GDPcap` có mối quan hệ tuyến tính đồng biến *mạnh* với biến `year`, hay nói cách khác là GDP bình quân đầu người của các thành phố nhìn chung đều tăng theo thời gian."
   ]
  },
  {
   "cell_type": "markdown",
   "metadata": {},
   "source": [
    "#### Kết luận"
   ]
  },
  {
   "cell_type": "markdown",
   "metadata": {},
   "source": [
    "Từ câu hỏi nhỏ trên ta có thể thấy chất lượng cuộc sống của người dân nhìn chung ngày càng được cải thiện. Tuy nhiên, tuỳ vào thành phố / quốc gia mà tỉ lệ tự sát tăng hay giảm. Có nghĩa là không phải lúc nào chất lượng cuộc sống tốt hơn đều khiến con người trở nên hạnh phúc hơn, hay nói đơn giản là: \"Không phải lúc nào tiền cũng làm bạn hạnh phúc\" :-)"
   ]
  },
  {
   "cell_type": "markdown",
   "metadata": {},
   "source": [
    "### <span class=\"burk\">Câu hỏi 3</span> ***Nhóm tuổi nào có số lượng vụ tự sát nhiều nhất, có tỉ lệ tự sát cao nhất?***"
   ]
  },
  {
   "cell_type": "code",
   "execution_count": 25,
   "metadata": {},
   "outputs": [],
   "source": [
    "gb_age_df = df.groupby(['year', 'age'])"
   ]
  },
  {
   "cell_type": "markdown",
   "metadata": {},
   "source": [
    "#### Tính tổng số vụ tự tử trên toàn cầu theo mỗi nhóm tuổi"
   ]
  },
  {
   "cell_type": "code",
   "execution_count": 26,
   "metadata": {},
   "outputs": [],
   "source": [
    "nsuicidesAge = gb_age_df.nsuicides.sum().unstack()"
   ]
  },
  {
   "cell_type": "markdown",
   "metadata": {},
   "source": [
    "#### Tính tỉ lệ tự tử trên toàn cầu theo mỗi nhóm tuổi"
   ]
  },
  {
   "cell_type": "code",
   "execution_count": 27,
   "metadata": {},
   "outputs": [],
   "source": [
    "crudeRateAge = (gb_age_df.nsuicides.sum() /\n",
    "                (gb_age_df.population.sum() / 100000)).unstack()"
   ]
  },
  {
   "cell_type": "markdown",
   "metadata": {},
   "source": [
    "#### Biểu diễn hai biểu đồ bằng các subplot"
   ]
  },
  {
   "cell_type": "code",
   "execution_count": 28,
   "metadata": {},
   "outputs": [
    {
     "data": {
      "text/plain": [
       "Text(0.5, 0, 'Year')"
      ]
     },
     "execution_count": 28,
     "metadata": {},
     "output_type": "execute_result"
    },
    {
     "data": {
      "image/png": "[encoded data removed]",
      "text/plain": [
       "<Figure size 1440x504 with 2 Axes>"
      ]
     },
     "metadata": {},
     "output_type": "display_data"
    }
   ],
   "source": [
    "plt.figure(figsize=[20, 7])\n",
    "plt.subplot(1, 2, 1)\n",
    "plt.plot(nsuicidesAge)\n",
    "plt.legend(nsuicidesAge.columns)\n",
    "plt.title(\"Change in number of suicides each age group\")\n",
    "plt.ylabel(\"Number of suicides\")\n",
    "plt.xlabel(\"Year\")\n",
    "plt.subplot(1, 2, 2)\n",
    "plt.plot(crudeRateAge)\n",
    "plt.legend(crudeRateAge.columns)\n",
    "plt.title(\"Change in crude rate each age group\")\n",
    "plt.ylabel(\"Crude rate\")\n",
    "plt.xlabel(\"Year\")"
   ]
  },
  {
   "cell_type": "markdown",
   "metadata": {},
   "source": [
    "#### Trả lời cho câu hỏi"
   ]
  },
  {
   "cell_type": "markdown",
   "metadata": {},
   "source": [
    "Ở đây có 2 nhóm tuổi đáng chú ý là nhóm \"35-54\" - Boomer và nhóm \"75+\" - Silent\n",
    "- Nhóm Boomer có số ca tự tử cao nhất.\n",
    "- Nhóm Silent có tỉ lệ tự tử cao nhất."
   ]
  },
  {
   "cell_type": "markdown",
   "metadata": {},
   "source": [
    "#### Kết luận"
   ]
  },
  {
   "cell_type": "markdown",
   "metadata": {},
   "source": [
    "- Nếu có người chết vì tự tử thì khả năng cao người đó thuộc thế hệ Boomer.\n",
    "- Người thuộc thế hệ Silent có nguy cơ tự tử cao."
   ]
  },
  {
   "cell_type": "markdown",
   "metadata": {},
   "source": [
    "### <span class=\"burk\">Câu hỏi 4</span>***Trải qua các năm, tỉ lệ tự tử của nam và nữ thay đổi như thế nào?***"
   ]
  },
  {
   "cell_type": "markdown",
   "metadata": {},
   "source": [
    "Để trả lời tổng quát cho câu hỏi này, ta lấy số ca tự tử của nam và của nữ, chia cho dân số nam và nữ trong từng năm."
   ]
  },
  {
   "cell_type": "code",
   "execution_count": 29,
   "metadata": {},
   "outputs": [],
   "source": [
    "gender_gb_df = df.groupby(['year', 'gender'])\n",
    "gender_rate = (gender_gb_df.nsuicides.sum() / (gender_gb_df.population.sum() / 100000)).unstack()"
   ]
  },
  {
   "cell_type": "code",
   "execution_count": 30,
   "metadata": {},
   "outputs": [
    {
     "data": {
      "text/plain": [
       "<matplotlib.legend.Legend at 0x1f12ef93948>"
      ]
     },
     "execution_count": 30,
     "metadata": {},
     "output_type": "execute_result"
    },
    {
     "data": {
      "image/png": "[encoded data removed]",
      "text/plain": [
       "<Figure size 576x504 with 1 Axes>"
      ]
     },
     "metadata": {},
     "output_type": "display_data"
    }
   ],
   "source": [
    "plt.plot(gender_rate, marker='o')\n",
    "plt.legend(gender_rate.columns)"
   ]
  },
  {
   "cell_type": "markdown",
   "metadata": {},
   "source": [
    "#### Trả lời cho câu hỏi"
   ]
  },
  {
   "cell_type": "markdown",
   "metadata": {},
   "source": [
    "Từ biểu đồ ta có thể thấy, tỉ lệ tự tử của đàn ông luôn cao vượt trội hơn phụ nữ"
   ]
  },
  {
   "cell_type": "markdown",
   "metadata": {},
   "source": [
    "#### Kết luận"
   ]
  },
  {
   "cell_type": "markdown",
   "metadata": {},
   "source": [
    "Đàn ông có nguy cơ tự tử cao hơn phụ nữ"
   ]
  },
  {
   "cell_type": "markdown",
   "metadata": {},
   "source": [
    "---"
   ]
  },
  {
   "cell_type": "markdown",
   "metadata": {},
   "source": [
    "# Nhìn lại quá trình làm đồ án"
   ]
  },
  {
   "cell_type": "markdown",
   "metadata": {},
   "source": [
    "### Khó khăn"
   ]
  },
  {
   "cell_type": "markdown",
   "metadata": {},
   "source": [
    "- Gặp khó khăn để tìm ra biểu đồ hợp lí cho câu hỏi thứ 2\n",
    "- Khi tìm ra được dạng biểu đồ hợp lí (stem plot) thì không biết tinh chỉnh sao cho hợp lí nên đành chọn scatter plot để biểu diễn (dù vẫn chưa hài lòng lắm)\n",
    "\n",
    "$\\Rightarrow$ Có lẽ em nên đăng kí môn \"Trực quan hoá dữ liệu\" vào kì sau :P"
   ]
  },
  {
   "cell_type": "markdown",
   "metadata": {},
   "source": [
    "### Đã học được những gì?"
   ]
  },
  {
   "cell_type": "markdown",
   "metadata": {},
   "source": [
    "- Nhuần nhuyễn hơn về cách sử dụng thư viện Numpy và Pandas\n",
    "- Trong quá trình làm đồ án, em đã rút ra được nhiều fact hay. Thí dụ như:\n",
    "    - Đàn ông có tỉ lệ tự tử cao hơn phụ nữ, trong khi phụ nữ thì có ý định tự tử thường xuyên hơn đàn ông: Điều này chứng tỏ rằng đàn ông ít bị trầm cảm, áp lực hơn phụ nữ. Nhưng cũng chính vì xã hội luôn bắt đàn ông phải mạnh mẽ và không thừa nhận mình đang phải vật lộn như thế nào nên dễ bị tuyệt vọng, dẫn đến khi có ý định tự tử, đàn ông thường dứt khoát hơn phụ nữ. Có vẻ như cánh mày râu cũng cần được quan tâm, chăm sóc về mặt tinh thần không kém gì phụ nữ.\n",
    "    - Tiền không (phải lúc nào cũng) mang đến hạnh phúc: Người ta thường nói câu này, nhưng không có ai thực sự chứng minh được. Nhưng bây giờ nhờ sức mạnh của thống kê suy diễn, em càng thấy câu nói này càng hợp tình hợp lý :D"
   ]
  },
  {
   "cell_type": "markdown",
   "metadata": {},
   "source": [
    "### Nếu có thêm thời gian sẽ làm gì?"
   ]
  },
  {
   "cell_type": "markdown",
   "metadata": {},
   "source": [
    "Tìm ra cách để biểu diễn biểu đồ stem plot cho câu hỏi 2 một cách hợp lý"
   ]
  },
  {
   "cell_type": "markdown",
   "metadata": {},
   "source": [
    "# Tài liệu tham khảo"
   ]
  },
  {
   "cell_type": "markdown",
   "metadata": {},
   "source": [
    "[Hey you!! Suicide is not a solution](https://www.kaggle.com/snanilim/hey-you-suicide-is-not-a-solution)\n",
    "\n",
    "[Suicides over different perspectives](https://www.kaggle.com/papeloto/suicides-over-different-perspectives)"
   ]
  }
 ],
 "metadata": {
  "kernelspec": {
   "display_name": "Python 3",
   "language": "python",
   "name": "python3"
  },
  "language_info": {
   "codemirror_mode": {
    "name": "ipython",
    "version": 3
   },
   "file_extension": ".py",
   "mimetype": "text/x-python",
   "name": "python",
   "nbconvert_exporter": "python",
   "pygments_lexer": "ipython3",
   "version": "3.7.7"
  },
  "toc": {
   "base_numbering": 1,
   "nav_menu": {
    "height": "645px",
    "width": "664px"
   },
   "number_sections": true,
   "sideBar": true,
   "skip_h1_title": false,
   "title_cell": "Table of Contents",
   "title_sidebar": "Contents",
   "toc_cell": false,
   "toc_position": {
    "height": "calc(100% - 180px)",
    "left": "10px",
    "top": "150px",
    "width": "306.333px"
   },
   "toc_section_display": true,
   "toc_window_display": true
  }
 },
 "nbformat": 4,
 "nbformat_minor": 4
}
