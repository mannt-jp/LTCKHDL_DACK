{
 "cells": [
  {
   "cell_type": "markdown",
   "metadata": {},
   "source": [
    "# Đồ án cuối kì\n",
    "Họ tên: Nguyễn Thanh Mẫn\n",
    "\n",
    "MSSV: 1712586"
   ]
  },
  {
   "cell_type": "markdown",
   "metadata": {},
   "source": [
    "---"
   ]
  },
  {
   "cell_type": "markdown",
   "metadata": {},
   "source": [
    "## Import"
   ]
  },
  {
   "cell_type": "code",
   "execution_count": 1,
   "metadata": {},
   "outputs": [],
   "source": [
    "import numpy\n",
    "import pandas\n",
    "import matplotlib.pyplot as plt\n",
    "from sklearn.linear_model import LinearRegression"
   ]
  },
  {
   "cell_type": "markdown",
   "metadata": {},
   "source": [
    "## Lấy dữ liệu"
   ]
  },
  {
   "cell_type": "markdown",
   "metadata": {},
   "source": [
    "- Dữ liệu được sử dụng trong đồ án là thống kê về số lượng vụ tự sát trong các thành phố ở mỗi năm, được phân chia thành từng nhóm giới tính và độ tuổi khác nhau, kèm theo dân số của từng nhóm và một số thông tin về sự phát triển của thành phố đó trong năm. Nguồn của dữ liệu được lấy tại [đây](https://www.kaggle.com/russellyates88/suicide-rates-overview-1985-to-2016?select=master.csv).\n",
    "\n",
    "- License ở [đây](https://www.worldbank.org/en/about/legal/terms-of-use-for-datasets).\n",
    "\n",
    "- Dữ liệu được thu thập từ 4 nguồn khác nhau:\n",
    "\n",
    "    - [UNDP's Human development index (2018)](http://hdr.undp.org/en/indicators/137506)\n",
    "\n",
    "    - [World Bank's World development indicators: GDP (current US$) by country: 1985 to 2016 (2018)](http://databank.worldbank.org/data/source/world-development-indicators#)\n",
    "\n",
    "    - [Szamil's Suicide in the Twenty-First Century dataset (2017)](https://www.kaggle.com/szamil/suicide-in-the-twenty-first-century/notebook)\n",
    "\n",
    "    - [World Health Organization's Suicide prevention](http://www.who.int/mental_health/suicide-prevention/en/)"
   ]
  },
  {
   "cell_type": "markdown",
   "metadata": {},
   "source": [
    "## Khám phá dữ liệu"
   ]
  },
  {
   "cell_type": "markdown",
   "metadata": {},
   "source": [
    "### Đọc dữ liệu từ file csv vào dataframe"
   ]
  },
  {
   "cell_type": "code",
   "execution_count": 2,
   "metadata": {},
   "outputs": [
    {
     "data": {
      "text/html": [
       "<div>\n",
       "<style scoped>\n",
       "    .dataframe tbody tr th:only-of-type {\n",
       "        vertical-align: middle;\n",
       "    }\n",
       "\n",
       "    .dataframe tbody tr th {\n",
       "        vertical-align: top;\n",
       "    }\n",
       "\n",
       "    .dataframe thead th {\n",
       "        text-align: right;\n",
       "    }\n",
       "</style>\n",
       "<table border=\"1\" class=\"dataframe\">\n",
       "  <thead>\n",
       "    <tr style=\"text-align: right;\">\n",
       "      <th></th>\n",
       "      <th>country</th>\n",
       "      <th>year</th>\n",
       "      <th>sex</th>\n",
       "      <th>age</th>\n",
       "      <th>suicides_no</th>\n",
       "      <th>population</th>\n",
       "      <th>suicides/100k pop</th>\n",
       "      <th>country-year</th>\n",
       "      <th>HDI for year</th>\n",
       "      <th>gdp_for_year ($)</th>\n",
       "      <th>gdp_per_capita ($)</th>\n",
       "      <th>generation</th>\n",
       "    </tr>\n",
       "  </thead>\n",
       "  <tbody>\n",
       "    <tr>\n",
       "      <th>0</th>\n",
       "      <td>Albania</td>\n",
       "      <td>1987</td>\n",
       "      <td>male</td>\n",
       "      <td>15-24 years</td>\n",
       "      <td>21</td>\n",
       "      <td>312900</td>\n",
       "      <td>6.71</td>\n",
       "      <td>Albania1987</td>\n",
       "      <td>NaN</td>\n",
       "      <td>2,156,624,900</td>\n",
       "      <td>796</td>\n",
       "      <td>Generation X</td>\n",
       "    </tr>\n",
       "    <tr>\n",
       "      <th>1</th>\n",
       "      <td>Albania</td>\n",
       "      <td>1987</td>\n",
       "      <td>male</td>\n",
       "      <td>35-54 years</td>\n",
       "      <td>16</td>\n",
       "      <td>308000</td>\n",
       "      <td>5.19</td>\n",
       "      <td>Albania1987</td>\n",
       "      <td>NaN</td>\n",
       "      <td>2,156,624,900</td>\n",
       "      <td>796</td>\n",
       "      <td>Silent</td>\n",
       "    </tr>\n",
       "    <tr>\n",
       "      <th>2</th>\n",
       "      <td>Albania</td>\n",
       "      <td>1987</td>\n",
       "      <td>female</td>\n",
       "      <td>15-24 years</td>\n",
       "      <td>14</td>\n",
       "      <td>289700</td>\n",
       "      <td>4.83</td>\n",
       "      <td>Albania1987</td>\n",
       "      <td>NaN</td>\n",
       "      <td>2,156,624,900</td>\n",
       "      <td>796</td>\n",
       "      <td>Generation X</td>\n",
       "    </tr>\n",
       "    <tr>\n",
       "      <th>3</th>\n",
       "      <td>Albania</td>\n",
       "      <td>1987</td>\n",
       "      <td>male</td>\n",
       "      <td>75+ years</td>\n",
       "      <td>1</td>\n",
       "      <td>21800</td>\n",
       "      <td>4.59</td>\n",
       "      <td>Albania1987</td>\n",
       "      <td>NaN</td>\n",
       "      <td>2,156,624,900</td>\n",
       "      <td>796</td>\n",
       "      <td>G.I. Generation</td>\n",
       "    </tr>\n",
       "    <tr>\n",
       "      <th>4</th>\n",
       "      <td>Albania</td>\n",
       "      <td>1987</td>\n",
       "      <td>male</td>\n",
       "      <td>25-34 years</td>\n",
       "      <td>9</td>\n",
       "      <td>274300</td>\n",
       "      <td>3.28</td>\n",
       "      <td>Albania1987</td>\n",
       "      <td>NaN</td>\n",
       "      <td>2,156,624,900</td>\n",
       "      <td>796</td>\n",
       "      <td>Boomers</td>\n",
       "    </tr>\n",
       "  </tbody>\n",
       "</table>\n",
       "</div>"
      ],
      "text/plain": [
       "   country  year     sex          age  suicides_no  population  \\\n",
       "0  Albania  1987    male  15-24 years           21      312900   \n",
       "1  Albania  1987    male  35-54 years           16      308000   \n",
       "2  Albania  1987  female  15-24 years           14      289700   \n",
       "3  Albania  1987    male    75+ years            1       21800   \n",
       "4  Albania  1987    male  25-34 years            9      274300   \n",
       "\n",
       "   suicides/100k pop country-year  HDI for year  gdp_for_year ($)   \\\n",
       "0               6.71  Albania1987           NaN      2,156,624,900   \n",
       "1               5.19  Albania1987           NaN      2,156,624,900   \n",
       "2               4.83  Albania1987           NaN      2,156,624,900   \n",
       "3               4.59  Albania1987           NaN      2,156,624,900   \n",
       "4               3.28  Albania1987           NaN      2,156,624,900   \n",
       "\n",
       "   gdp_per_capita ($)       generation  \n",
       "0                 796     Generation X  \n",
       "1                 796           Silent  \n",
       "2                 796     Generation X  \n",
       "3                 796  G.I. Generation  \n",
       "4                 796          Boomers  "
      ]
     },
     "execution_count": 2,
     "metadata": {},
     "output_type": "execute_result"
    }
   ],
   "source": [
    "df = pd.read_csv('master.csv')\n",
    "df.head()"
   ]
  },
  {
   "cell_type": "markdown",
   "metadata": {},
   "source": [
    "### Dữ liệu gồm có bao nhiêu dòng và bao nhiêu cột?"
   ]
  },
  {
   "cell_type": "code",
   "execution_count": 3,
   "metadata": {},
   "outputs": [
    {
     "name": "stdout",
     "output_type": "stream",
     "text": [
      "Dataset has 27820 rows and 12 cols\n"
     ]
    }
   ],
   "source": [
    "num_rows, num_cols = df.shape\n",
    "print(\"Dataset has {0} rows and {1} cols\".format(num_rows, num_cols))"
   ]
  },
  {
   "cell_type": "markdown",
   "metadata": {},
   "source": [
    "### Mỗi dòng và mỗi cột có ý nghĩa gì?"
   ]
  },
  {
   "cell_type": "markdown",
   "metadata": {},
   "source": [
    "Mô tả về các cột của file \"who_suicide_statistics.csv\":\n",
    "- **country**: thành phố.\n",
    "- **year**: năm.\n",
    "- **sex**: giới tính, gồm nam (male) và nữ (female).\n",
    "- **age**: nhóm tuổi.\n",
    "- **suicides_no**: số lượng vụ tự sát.\n",
    "- **population**: dân số thuộc nhóm tuổi và thành phố đó.\n",
    "Mỗi dòng là số liệu thống kê các vụ tự sát trong mỗi thành phố, nhóm tuổi và năm.\n",
    "- **suicides/100k pop**: tỉ lệ tự sát của nhóm tuổi đó trên 100 000 người.\n",
    "- **country-year**: ghép giữa 2 cột **country** và **year** (cột này có vẻ không cần thiết nên sẽ lược bỏ trong bước tiền xử lý).\n",
    "- **HDI for year**: chỉ số phát triển con người trong năm của thành phố đó ([Chỉ số phát triển con người là gì?](https://vi.wikipedia.org/wiki/Ch%E1%BB%89_s%E1%BB%91_ph%C3%A1t_tri%E1%BB%83n_con_ng%C6%B0%E1%BB%9Di)).\n",
    "- **gdp_for_year**: chỉ số GDP trong năm của thành phố đó.\n",
    "- **gdp_per_capita**: chỉ số GDP/ người.\n",
    "- **generation**: thế hệ của nhóm tuổi tương ứng vào năm đó (cột này có vấn đề mà mình sẽ giải thích sau).\n",
    "\n",
    "Mỗi dòng là thống kê các vụ tự sát và thông tin về sự phát triển của mỗi nhóm tuổi sống trong một thành phố trong mỗi năm."
   ]
  },
  {
   "cell_type": "markdown",
   "metadata": {},
   "source": [
    "### Mỗi cột có dtype là gì?"
   ]
  },
  {
   "cell_type": "code",
   "execution_count": 4,
   "metadata": {},
   "outputs": [
    {
     "data": {
      "text/plain": [
       "country                object\n",
       "year                    int64\n",
       "sex                    object\n",
       "age                    object\n",
       "suicides_no             int64\n",
       "population              int64\n",
       "suicides/100k pop     float64\n",
       "country-year           object\n",
       "HDI for year          float64\n",
       " gdp_for_year ($)      object\n",
       "gdp_per_capita ($)      int64\n",
       "generation             object\n",
       "dtype: object"
      ]
     },
     "execution_count": 4,
     "metadata": {},
     "output_type": "execute_result"
    }
   ],
   "source": [
    "col_dtypes = df.dtypes\n",
    "col_dtypes"
   ]
  },
  {
   "cell_type": "markdown",
   "metadata": {},
   "source": [
    "## Tiền xử lý"
   ]
  },
  {
   "cell_type": "markdown",
   "metadata": {},
   "source": [
    "### Bỏ cột country-year"
   ]
  },
  {
   "cell_type": "code",
   "execution_count": 5,
   "metadata": {},
   "outputs": [],
   "source": [
    "df.drop(columns='country-year', inplace=True)"
   ]
  },
  {
   "cell_type": "markdown",
   "metadata": {},
   "source": [
    "### Chỉnh lại tên của các cột cho hợp lý"
   ]
  },
  {
   "cell_type": "code",
   "execution_count": 6,
   "metadata": {},
   "outputs": [],
   "source": [
    "df.rename(columns={\n",
    "    df.columns[2]: 'gender',\n",
    "    df.columns[4]: 'nsuicides',\n",
    "    df.columns[6]: 'crudeRate',\n",
    "    df.columns[7]: 'HDIyear',\n",
    "    df.columns[8]: 'GDPyear',\n",
    "    df.columns[9]: 'GDPcap'\n",
    "},\n",
    "          inplace=True)"
   ]
  },
  {
   "cell_type": "markdown",
   "metadata": {},
   "source": [
    "### Bỏ hậu tố ' years' trong các phần tử của cột \"age\""
   ]
  },
  {
   "cell_type": "code",
   "execution_count": 7,
   "metadata": {},
   "outputs": [],
   "source": [
    "df.age = df.age.str.replace(' years', '')"
   ]
  },
  {
   "cell_type": "markdown",
   "metadata": {},
   "source": [
    "### Sửa các phần tử \"5-14\" trong cột \"age\" thành \"05-14\" để dễ sort"
   ]
  },
  {
   "cell_type": "code",
   "execution_count": 8,
   "metadata": {},
   "outputs": [],
   "source": [
    "df.loc[df.age == '5-14', 'age'] = '05-14'"
   ]
  },
  {
   "cell_type": "markdown",
   "metadata": {},
   "source": [
    "### Chỉnh dtype của cột \"GDPyear\" thành dạng numeric"
   ]
  },
  {
   "cell_type": "markdown",
   "metadata": {},
   "source": [
    "Cột \"GDPyear\" đang có dtype là object, để chuyển thành dạng numeric trước tiên ta cần loại bỏ các dấu phẩy của tất cả các hàng trong cột"
   ]
  },
  {
   "cell_type": "code",
   "execution_count": 9,
   "metadata": {},
   "outputs": [],
   "source": [
    "df.GDPyear = df.GDPyear.str.replace(',', '')"
   ]
  },
  {
   "cell_type": "markdown",
   "metadata": {},
   "source": [
    "Sau khi bỏ hết dấu phẩy, dùng `pd.to_numeric` để chuyển dtype thành dạng numeric"
   ]
  },
  {
   "cell_type": "code",
   "execution_count": 10,
   "metadata": {},
   "outputs": [],
   "source": [
    "df.GDPyear = pd.to_numeric(df.GDPyear)"
   ]
  },
  {
   "cell_type": "markdown",
   "metadata": {},
   "source": [
    "## Quay lại bước khám phá dữ liệu"
   ]
  },
  {
   "cell_type": "code",
   "execution_count": 11,
   "metadata": {},
   "outputs": [
    {
     "name": "stdout",
     "output_type": "stream",
     "text": [
      "<class 'pandas.core.frame.DataFrame'>\n",
      "RangeIndex: 27820 entries, 0 to 27819\n",
      "Data columns (total 11 columns):\n",
      " #   Column      Non-Null Count  Dtype  \n",
      "---  ------      --------------  -----  \n",
      " 0   country     27820 non-null  object \n",
      " 1   year        27820 non-null  int64  \n",
      " 2   gender      27820 non-null  object \n",
      " 3   age         27820 non-null  object \n",
      " 4   nsuicides   27820 non-null  int64  \n",
      " 5   population  27820 non-null  int64  \n",
      " 6   crudeRate   27820 non-null  float64\n",
      " 7   HDIyear     8364 non-null   float64\n",
      " 8   GDPyear     27820 non-null  int64  \n",
      " 9   GDPcap      27820 non-null  int64  \n",
      " 10  generation  27820 non-null  object \n",
      "dtypes: float64(2), int64(5), object(4)\n",
      "memory usage: 2.3+ MB\n"
     ]
    }
   ],
   "source": [
    "df.info()"
   ]
  },
  {
   "cell_type": "markdown",
   "metadata": {},
   "source": [
    "### Các cột dạng numeric có miền giá trị như thế nào?"
   ]
  },
  {
   "cell_type": "markdown",
   "metadata": {},
   "source": [
    "Hiện đang có $6$ cột có dạng numeric. Miền giá trị của từng cột sẽ được lưu vào dataframe `col_ranges_df` có $2$ dòng là \"min\", \"max\" và $7$ cột là  \"nsuicides\", \"population\", \"crudeRate\", \"HDIyear\", \"GDPyear\", \"GDPcap\"."
   ]
  },
  {
   "cell_type": "code",
   "execution_count": 12,
   "metadata": {},
   "outputs": [
    {
     "data": {
      "text/html": [
       "<div>\n",
       "<style scoped>\n",
       "    .dataframe tbody tr th:only-of-type {\n",
       "        vertical-align: middle;\n",
       "    }\n",
       "\n",
       "    .dataframe tbody tr th {\n",
       "        vertical-align: top;\n",
       "    }\n",
       "\n",
       "    .dataframe thead th {\n",
       "        text-align: right;\n",
       "    }\n",
       "</style>\n",
       "<table border=\"1\" class=\"dataframe\">\n",
       "  <thead>\n",
       "    <tr style=\"text-align: right;\">\n",
       "      <th></th>\n",
       "      <th>nsuicides</th>\n",
       "      <th>population</th>\n",
       "      <th>crudeRate</th>\n",
       "      <th>HDIyear</th>\n",
       "      <th>GDPyear</th>\n",
       "      <th>GDPcap</th>\n",
       "    </tr>\n",
       "  </thead>\n",
       "  <tbody>\n",
       "    <tr>\n",
       "      <th>min</th>\n",
       "      <td>0</td>\n",
       "      <td>278</td>\n",
       "      <td>0.00</td>\n",
       "      <td>0.483</td>\n",
       "      <td>46919625</td>\n",
       "      <td>251</td>\n",
       "    </tr>\n",
       "    <tr>\n",
       "      <th>max</th>\n",
       "      <td>22338</td>\n",
       "      <td>43805214</td>\n",
       "      <td>224.97</td>\n",
       "      <td>0.944</td>\n",
       "      <td>18120714000000</td>\n",
       "      <td>126352</td>\n",
       "    </tr>\n",
       "  </tbody>\n",
       "</table>\n",
       "</div>"
      ],
      "text/plain": [
       "     nsuicides  population  crudeRate  HDIyear         GDPyear  GDPcap\n",
       "min          0         278       0.00    0.483        46919625     251\n",
       "max      22338    43805214     224.97    0.944  18120714000000  126352"
      ]
     },
     "execution_count": 12,
     "metadata": {},
     "output_type": "execute_result"
    }
   ],
   "source": [
    "numeric_cols = [\n",
    "    \"nsuicides\", \"population\", \"crudeRate\", \"HDIyear\", \"GDPyear\", \"GDPcap\"\n",
    "]\n",
    "col_ranges_df = pd.DataFrame()\n",
    "col_ranges_df['min'] = df[numeric_cols].min()\n",
    "col_ranges_df['max'] = df[numeric_cols].max()\n",
    "col_ranges_df = col_ranges_df.T.astype(df[numeric_cols].dtypes.to_dict())\n",
    "col_ranges_df"
   ]
  },
  {
   "cell_type": "markdown",
   "metadata": {},
   "source": [
    "### Các cột dạng categorical có các giá trị nào? "
   ]
  },
  {
   "cell_type": "markdown",
   "metadata": {},
   "source": [
    "Các cột dạng categorical: \"year\", \"country\", \"gender\", \"age\", \"generation\". Các giá trị của cột sẽ được lưu vào dataframe `cat_col_ranges_df` có $2$ dòng là \"NumUniqueVals\", \"SomeFirstVals và $4$ cột \"year\", \"country\", \"gender\", \"age\"."
   ]
  },
  {
   "cell_type": "code",
   "execution_count": 13,
   "metadata": {},
   "outputs": [
    {
     "data": {
      "text/html": [
       "<div>\n",
       "<style scoped>\n",
       "    .dataframe tbody tr th:only-of-type {\n",
       "        vertical-align: middle;\n",
       "    }\n",
       "\n",
       "    .dataframe tbody tr th {\n",
       "        vertical-align: top;\n",
       "    }\n",
       "\n",
       "    .dataframe thead th {\n",
       "        text-align: right;\n",
       "    }\n",
       "</style>\n",
       "<table border=\"1\" class=\"dataframe\">\n",
       "  <thead>\n",
       "    <tr style=\"text-align: right;\">\n",
       "      <th></th>\n",
       "      <th>year</th>\n",
       "      <th>country</th>\n",
       "      <th>gender</th>\n",
       "      <th>age</th>\n",
       "    </tr>\n",
       "  </thead>\n",
       "  <tbody>\n",
       "    <tr>\n",
       "      <th>NumUniqueVals</th>\n",
       "      <td>32</td>\n",
       "      <td>101</td>\n",
       "      <td>2</td>\n",
       "      <td>6</td>\n",
       "    </tr>\n",
       "    <tr>\n",
       "      <th>SomeFirstVals</th>\n",
       "      <td>[1985, 1986, 1987]</td>\n",
       "      <td>[Albania, Antigua and Barbuda, Argentina]</td>\n",
       "      <td>[female, male]</td>\n",
       "      <td>[05-14, 15-24, 25-34]</td>\n",
       "    </tr>\n",
       "  </tbody>\n",
       "</table>\n",
       "</div>"
      ],
      "text/plain": [
       "                             year                                    country  \\\n",
       "NumUniqueVals                  32                                        101   \n",
       "SomeFirstVals  [1985, 1986, 1987]  [Albania, Antigua and Barbuda, Argentina]   \n",
       "\n",
       "                       gender                    age  \n",
       "NumUniqueVals               2                      6  \n",
       "SomeFirstVals  [female, male]  [05-14, 15-24, 25-34]  "
      ]
     },
     "execution_count": 13,
     "metadata": {},
     "output_type": "execute_result"
    }
   ],
   "source": [
    "cat_cols = [\"year\", \"country\", \"gender\", \"age\"]\n",
    "cat_col_ranges_df = pd.DataFrame(columns=cat_cols)\n",
    "cat_col_ranges_df.loc[\"NumUniqueVals\"] = [\n",
    "    df[col].nunique() for col in cat_col_ranges_df.columns\n",
    "]\n",
    "cat_col_ranges_df.loc[\"SomeFirstVals\"] = [\n",
    "    np.sort(df[col].unique())[:3].tolist() for col in cat_col_ranges_df.columns\n",
    "]\n",
    "cat_col_ranges_df"
   ]
  },
  {
   "cell_type": "markdown",
   "metadata": {},
   "source": [
    "### Mỗi cột có bao nhiêu phần trăm giá trị thiếu?"
   ]
  },
  {
   "cell_type": "code",
   "execution_count": 14,
   "metadata": {},
   "outputs": [
    {
     "data": {
      "text/plain": [
       "country        0.0\n",
       "year           0.0\n",
       "gender         0.0\n",
       "age            0.0\n",
       "nsuicides      0.0\n",
       "population     0.0\n",
       "crudeRate      0.0\n",
       "HDIyear       69.9\n",
       "GDPyear        0.0\n",
       "GDPcap         0.0\n",
       "generation     0.0\n",
       "dtype: float64"
      ]
     },
     "execution_count": 14,
     "metadata": {},
     "output_type": "execute_result"
    }
   ],
   "source": [
    "col_num_nans = np.round(df.isnull().mean() * 100, 1)\n",
    "col_num_nans"
   ]
  },
  {
   "cell_type": "markdown",
   "metadata": {},
   "source": [
    "Cột \"HDIyear\" bị thiếu khá nhiều (số giá trị thiếu lên tới gần $70\\%$) nên ta sẽ bỏ cột này"
   ]
  },
  {
   "cell_type": "code",
   "execution_count": 15,
   "metadata": {},
   "outputs": [],
   "source": [
    "df.drop(columns='HDIyear', inplace=True)"
   ]
  },
  {
   "cell_type": "markdown",
   "metadata": {},
   "source": [
    "### Cột nào bị bất hợp lý?"
   ]
  },
  {
   "cell_type": "markdown",
   "metadata": {},
   "source": [
    "Cột 'generation' là cột bất hợp lý. Vì sao vậy?"
   ]
  },
  {
   "cell_type": "code",
   "execution_count": 16,
   "metadata": {},
   "outputs": [
    {
     "data": {
      "text/html": [
       "<div>\n",
       "<style scoped>\n",
       "    .dataframe tbody tr th:only-of-type {\n",
       "        vertical-align: middle;\n",
       "    }\n",
       "\n",
       "    .dataframe tbody tr th {\n",
       "        vertical-align: top;\n",
       "    }\n",
       "\n",
       "    .dataframe thead th {\n",
       "        text-align: right;\n",
       "    }\n",
       "</style>\n",
       "<table border=\"1\" class=\"dataframe\">\n",
       "  <thead>\n",
       "    <tr style=\"text-align: right;\">\n",
       "      <th>generation</th>\n",
       "      <th>Boomers</th>\n",
       "      <th>G.I. Generation</th>\n",
       "      <th>Generation X</th>\n",
       "      <th>Generation Z</th>\n",
       "      <th>Millenials</th>\n",
       "      <th>Silent</th>\n",
       "    </tr>\n",
       "    <tr>\n",
       "      <th>year</th>\n",
       "      <th></th>\n",
       "      <th></th>\n",
       "      <th></th>\n",
       "      <th></th>\n",
       "      <th></th>\n",
       "      <th></th>\n",
       "    </tr>\n",
       "  </thead>\n",
       "  <tbody>\n",
       "    <tr>\n",
       "      <th>1985</th>\n",
       "      <td>[25-34]</td>\n",
       "      <td>[55-74, 75+]</td>\n",
       "      <td>[15-24, 05-14]</td>\n",
       "      <td>NaN</td>\n",
       "      <td>NaN</td>\n",
       "      <td>[35-54]</td>\n",
       "    </tr>\n",
       "    <tr>\n",
       "      <th>1986</th>\n",
       "      <td>[25-34]</td>\n",
       "      <td>[55-74, 75+]</td>\n",
       "      <td>[15-24, 05-14]</td>\n",
       "      <td>NaN</td>\n",
       "      <td>NaN</td>\n",
       "      <td>[35-54]</td>\n",
       "    </tr>\n",
       "  </tbody>\n",
       "</table>\n",
       "</div>"
      ],
      "text/plain": [
       "generation  Boomers G.I. Generation    Generation X Generation Z Millenials  \\\n",
       "year                                                                          \n",
       "1985        [25-34]    [55-74, 75+]  [15-24, 05-14]          NaN        NaN   \n",
       "1986        [25-34]    [55-74, 75+]  [15-24, 05-14]          NaN        NaN   \n",
       "\n",
       "generation   Silent  \n",
       "year                 \n",
       "1985        [35-54]  \n",
       "1986        [35-54]  "
      ]
     },
     "execution_count": 16,
     "metadata": {},
     "output_type": "execute_result"
    }
   ],
   "source": [
    "df.groupby(['year', 'generation']).age.unique().unstack().loc[1985:1986]"
   ]
  },
  {
   "cell_type": "markdown",
   "metadata": {},
   "source": [
    "Theo như hiểu biết của mình, thế hệ (generation) chỉ được phân ra dựa trên **năm sinh** của một người chứ không phải là **số tuổi**. Vì thế, nhóm tuổi tương ứng của một thế hệ phải **khác nhau** qua từng năm. Ví dụ nếu lấy năm 1985 làm mốc, thì dữ liệu định nghĩa rằng: thế hệ G.I Generation trong năm 1985 là những người có tuổi từ **55** trở lên, như vậy đáng lẽ sau 1 năm (1986) thì thế hệ này phải là những người có số tuổi từ **56** trở lên, nhưng trong dữ liệu vẫn là [55-74, 75+]."
   ]
  },
  {
   "cell_type": "code",
   "execution_count": 17,
   "metadata": {},
   "outputs": [
    {
     "data": {
      "text/html": [
       "<div>\n",
       "<style scoped>\n",
       "    .dataframe tbody tr th:only-of-type {\n",
       "        vertical-align: middle;\n",
       "    }\n",
       "\n",
       "    .dataframe tbody tr th {\n",
       "        vertical-align: top;\n",
       "    }\n",
       "\n",
       "    .dataframe thead th {\n",
       "        text-align: right;\n",
       "    }\n",
       "</style>\n",
       "<table border=\"1\" class=\"dataframe\">\n",
       "  <thead>\n",
       "    <tr style=\"text-align: right;\">\n",
       "      <th>generation</th>\n",
       "      <th>Boomers</th>\n",
       "      <th>G.I. Generation</th>\n",
       "      <th>Generation X</th>\n",
       "      <th>Generation Z</th>\n",
       "      <th>Millenials</th>\n",
       "      <th>Silent</th>\n",
       "    </tr>\n",
       "    <tr>\n",
       "      <th>year</th>\n",
       "      <th></th>\n",
       "      <th></th>\n",
       "      <th></th>\n",
       "      <th></th>\n",
       "      <th></th>\n",
       "      <th></th>\n",
       "    </tr>\n",
       "  </thead>\n",
       "  <tbody>\n",
       "    <tr>\n",
       "      <th>2015</th>\n",
       "      <td>[55-74]</td>\n",
       "      <td>NaN</td>\n",
       "      <td>[35-54]</td>\n",
       "      <td>[05-14]</td>\n",
       "      <td>[15-24, 25-34]</td>\n",
       "      <td>[75+]</td>\n",
       "    </tr>\n",
       "  </tbody>\n",
       "</table>\n",
       "</div>"
      ],
      "text/plain": [
       "generation  Boomers G.I. Generation Generation X Generation Z      Millenials  \\\n",
       "year                                                                            \n",
       "2015        [55-74]             NaN      [35-54]      [05-14]  [15-24, 25-34]   \n",
       "\n",
       "generation Silent  \n",
       "year               \n",
       "2015        [75+]  "
      ]
     },
     "execution_count": 17,
     "metadata": {},
     "output_type": "execute_result"
    }
   ],
   "source": [
    "df.groupby(['year', 'generation']).age.unique().unstack().loc[[2015]]"
   ]
  },
  {
   "cell_type": "markdown",
   "metadata": {},
   "source": [
    "Trên thực tế, người ta phân chia thế hệ khác hoàn toàn so với dữ liệu. Theo bài báo [The Whys and Hows of Generations Research](https://www.pewresearch.org/politics/2015/09/03/the-whys-and-hows-of-generations-research/), trong năm 2015, thế hệ Milenials có số tuổi từ 18 đến 34, khác với dữ liệu là từ 15 đến 34."
   ]
  },
  {
   "cell_type": "markdown",
   "metadata": {},
   "source": [
    "Vì cột 'generation' có sự bất hợp lý nên ta có thể bỏ cột này"
   ]
  },
  {
   "cell_type": "code",
   "execution_count": 18,
   "metadata": {},
   "outputs": [],
   "source": [
    "df.drop(columns='generation', inplace=True)"
   ]
  },
  {
   "cell_type": "markdown",
   "metadata": {},
   "source": [
    "---"
   ]
  },
  {
   "cell_type": "markdown",
   "metadata": {},
   "source": [
    "## Đưa ra các câu hỏi cần trả lời"
   ]
  },
  {
   "cell_type": "markdown",
   "metadata": {},
   "source": [
    "### <span class=\"burk\">Câu hỏi 1</span> ***Trong mỗi năm, thành phố nào có tỉ lệ tự sát cao nhất?***\n",
    "\n",
    "Tìm ra thành phố có nguy cơ tự sát cao nhất để những thành phố có thể can thiệp hợp lý để cải thiện về chất lượng cuộc sống và tinh thần của người dân."
   ]
  },
  {
   "cell_type": "markdown",
   "metadata": {},
   "source": [
    "Để tính tỉ lệ tự sát cho toàn dân số thuộc tất cả các nhóm tuổi của mỗi thành phố trong một năm, ta dùng `df.groupby` theo `country` và `year` rồi tính tổng số ca tự sát chia cho tổng số dân rồi nhân cho $100000$."
   ]
  },
  {
   "cell_type": "code",
   "execution_count": 19,
   "metadata": {},
   "outputs": [],
   "source": [
    "gb_df = df.groupby(['country', 'year'])\n",
    "crudeRateGeneral = (gb_df.nsuicides.sum() /\n",
    "                    (gb_df.population.sum() / 100000)).unstack()"
   ]
  },
  {
   "cell_type": "markdown",
   "metadata": {},
   "source": [
    "#### Trả lời câu hỏi:"
   ]
  },
  {
   "cell_type": "markdown",
   "metadata": {},
   "source": [
    "Câu trả lời được biểu diễn bằng dataframe `most_concerning_countries` có 2 cột là \"Country with highest rate\", \"Highest rate\" và các dòng là năm. Mỗi giá trị được đi kèm với tỉ lệ tự sát của thành phố đó trong năm."
   ]
  },
  {
   "cell_type": "code",
   "execution_count": 20,
   "metadata": {
    "scrolled": true
   },
   "outputs": [
    {
     "data": {
      "text/html": [
       "<div>\n",
       "<style scoped>\n",
       "    .dataframe tbody tr th:only-of-type {\n",
       "        vertical-align: middle;\n",
       "    }\n",
       "\n",
       "    .dataframe tbody tr th {\n",
       "        vertical-align: top;\n",
       "    }\n",
       "\n",
       "    .dataframe thead th {\n",
       "        text-align: right;\n",
       "    }\n",
       "</style>\n",
       "<table border=\"1\" class=\"dataframe\">\n",
       "  <thead>\n",
       "    <tr style=\"text-align: right;\">\n",
       "      <th></th>\n",
       "      <th>Country with highest rate</th>\n",
       "      <th>Highest rate</th>\n",
       "    </tr>\n",
       "  </thead>\n",
       "  <tbody>\n",
       "    <tr>\n",
       "      <th>1985</th>\n",
       "      <td>Sri Lanka</td>\n",
       "      <td>40.90</td>\n",
       "    </tr>\n",
       "    <tr>\n",
       "      <th>1986</th>\n",
       "      <td>Sri Lanka</td>\n",
       "      <td>37.90</td>\n",
       "    </tr>\n",
       "    <tr>\n",
       "      <th>1987</th>\n",
       "      <td>Finland</td>\n",
       "      <td>29.54</td>\n",
       "    </tr>\n",
       "    <tr>\n",
       "      <th>1988</th>\n",
       "      <td>Finland</td>\n",
       "      <td>30.26</td>\n",
       "    </tr>\n",
       "    <tr>\n",
       "      <th>1989</th>\n",
       "      <td>Finland</td>\n",
       "      <td>30.36</td>\n",
       "    </tr>\n",
       "    <tr>\n",
       "      <th>1990</th>\n",
       "      <td>Finland</td>\n",
       "      <td>32.34</td>\n",
       "    </tr>\n",
       "    <tr>\n",
       "      <th>1991</th>\n",
       "      <td>Hungary</td>\n",
       "      <td>40.92</td>\n",
       "    </tr>\n",
       "    <tr>\n",
       "      <th>1992</th>\n",
       "      <td>Hungary</td>\n",
       "      <td>41.00</td>\n",
       "    </tr>\n",
       "    <tr>\n",
       "      <th>1993</th>\n",
       "      <td>Russian Federation</td>\n",
       "      <td>40.56</td>\n",
       "    </tr>\n",
       "    <tr>\n",
       "      <th>1994</th>\n",
       "      <td>Russian Federation</td>\n",
       "      <td>44.35</td>\n",
       "    </tr>\n",
       "    <tr>\n",
       "      <th>1995</th>\n",
       "      <td>Lithuania</td>\n",
       "      <td>50.01</td>\n",
       "    </tr>\n",
       "    <tr>\n",
       "      <th>1996</th>\n",
       "      <td>Lithuania</td>\n",
       "      <td>51.02</td>\n",
       "    </tr>\n",
       "    <tr>\n",
       "      <th>1997</th>\n",
       "      <td>Lithuania</td>\n",
       "      <td>48.51</td>\n",
       "    </tr>\n",
       "    <tr>\n",
       "      <th>1998</th>\n",
       "      <td>Lithuania</td>\n",
       "      <td>46.34</td>\n",
       "    </tr>\n",
       "    <tr>\n",
       "      <th>1999</th>\n",
       "      <td>Lithuania</td>\n",
       "      <td>46.50</td>\n",
       "    </tr>\n",
       "    <tr>\n",
       "      <th>2000</th>\n",
       "      <td>Lithuania</td>\n",
       "      <td>49.20</td>\n",
       "    </tr>\n",
       "    <tr>\n",
       "      <th>2001</th>\n",
       "      <td>Lithuania</td>\n",
       "      <td>46.54</td>\n",
       "    </tr>\n",
       "    <tr>\n",
       "      <th>2002</th>\n",
       "      <td>Lithuania</td>\n",
       "      <td>47.37</td>\n",
       "    </tr>\n",
       "    <tr>\n",
       "      <th>2003</th>\n",
       "      <td>Lithuania</td>\n",
       "      <td>44.71</td>\n",
       "    </tr>\n",
       "    <tr>\n",
       "      <th>2004</th>\n",
       "      <td>Lithuania</td>\n",
       "      <td>42.82</td>\n",
       "    </tr>\n",
       "    <tr>\n",
       "      <th>2005</th>\n",
       "      <td>Lithuania</td>\n",
       "      <td>41.55</td>\n",
       "    </tr>\n",
       "    <tr>\n",
       "      <th>2006</th>\n",
       "      <td>Lithuania</td>\n",
       "      <td>33.56</td>\n",
       "    </tr>\n",
       "    <tr>\n",
       "      <th>2007</th>\n",
       "      <td>Lithuania</td>\n",
       "      <td>33.19</td>\n",
       "    </tr>\n",
       "    <tr>\n",
       "      <th>2008</th>\n",
       "      <td>Lithuania</td>\n",
       "      <td>36.38</td>\n",
       "    </tr>\n",
       "    <tr>\n",
       "      <th>2009</th>\n",
       "      <td>Lithuania</td>\n",
       "      <td>37.73</td>\n",
       "    </tr>\n",
       "    <tr>\n",
       "      <th>2010</th>\n",
       "      <td>Lithuania</td>\n",
       "      <td>34.51</td>\n",
       "    </tr>\n",
       "    <tr>\n",
       "      <th>2011</th>\n",
       "      <td>Lithuania</td>\n",
       "      <td>35.35</td>\n",
       "    </tr>\n",
       "    <tr>\n",
       "      <th>2012</th>\n",
       "      <td>Lithuania</td>\n",
       "      <td>32.67</td>\n",
       "    </tr>\n",
       "    <tr>\n",
       "      <th>2013</th>\n",
       "      <td>Lithuania</td>\n",
       "      <td>38.66</td>\n",
       "    </tr>\n",
       "    <tr>\n",
       "      <th>2014</th>\n",
       "      <td>Lithuania</td>\n",
       "      <td>33.43</td>\n",
       "    </tr>\n",
       "    <tr>\n",
       "      <th>2015</th>\n",
       "      <td>Lithuania</td>\n",
       "      <td>32.54</td>\n",
       "    </tr>\n",
       "    <tr>\n",
       "      <th>2016</th>\n",
       "      <td>Lithuania</td>\n",
       "      <td>33.62</td>\n",
       "    </tr>\n",
       "  </tbody>\n",
       "</table>\n",
       "</div>"
      ],
      "text/plain": [
       "     Country with highest rate  Highest rate\n",
       "1985                 Sri Lanka         40.90\n",
       "1986                 Sri Lanka         37.90\n",
       "1987                   Finland         29.54\n",
       "1988                   Finland         30.26\n",
       "1989                   Finland         30.36\n",
       "1990                   Finland         32.34\n",
       "1991                   Hungary         40.92\n",
       "1992                   Hungary         41.00\n",
       "1993        Russian Federation         40.56\n",
       "1994        Russian Federation         44.35\n",
       "1995                 Lithuania         50.01\n",
       "1996                 Lithuania         51.02\n",
       "1997                 Lithuania         48.51\n",
       "1998                 Lithuania         46.34\n",
       "1999                 Lithuania         46.50\n",
       "2000                 Lithuania         49.20\n",
       "2001                 Lithuania         46.54\n",
       "2002                 Lithuania         47.37\n",
       "2003                 Lithuania         44.71\n",
       "2004                 Lithuania         42.82\n",
       "2005                 Lithuania         41.55\n",
       "2006                 Lithuania         33.56\n",
       "2007                 Lithuania         33.19\n",
       "2008                 Lithuania         36.38\n",
       "2009                 Lithuania         37.73\n",
       "2010                 Lithuania         34.51\n",
       "2011                 Lithuania         35.35\n",
       "2012                 Lithuania         32.67\n",
       "2013                 Lithuania         38.66\n",
       "2014                 Lithuania         33.43\n",
       "2015                 Lithuania         32.54\n",
       "2016                 Lithuania         33.62"
      ]
     },
     "execution_count": 20,
     "metadata": {},
     "output_type": "execute_result"
    }
   ],
   "source": [
    "# Lấy ra các thuộc tính 'idxmax', 'max'\n",
    "most_concerning_countries = crudeRateGeneral.agg(['idxmax', 'max']).T\n",
    "# Làm tròn số cho cột bằng hàm apply\n",
    "most_concerning_countries['max'] = most_concerning_countries['max'].apply(\n",
    "    lambda x: round(x, 2))\n",
    "most_concerning_countries.columns = [\"Country with highest rate\", \"Highest rate\"]\n",
    "most_concerning_countries"
   ]
  },
  {
   "cell_type": "markdown",
   "metadata": {},
   "source": [
    "#### Kết luận"
   ]
  },
  {
   "cell_type": "markdown",
   "metadata": {},
   "source": [
    "Đáng chú ý là tỉ lệ tự sát đáng báo động của [Lithuania](https://en.wikipedia.org/wiki/Suicide_in_Lithuania), khi mà nước này là nước có tỉ lệ [cao nhất](https://theculturetrip.com/europe/lithuania/articles/this-country-has-among-the-highest-suicide-rates-in-the-world/) kéo dài từ năm 1995 đến 2016."
   ]
  },
  {
   "cell_type": "markdown",
   "metadata": {},
   "source": [
    "### <span class=\"burk\">Câu hỏi 2</span> ***Qua thời gian, tìm ra 3 thành phố với tỉ lệ tự sát có xu hướng tăng lên mạnh nhất và 3 thành phố với tỉ lệ tự sát có xu hướng giảm xuống mạnh nhất (chỉ xét trong những thành phố có ít nhất 50% dữ liệu hợp lệ)***\n",
    "\n",
    "Có một câu hỏi nhức nhối về vấn đề này, đó là \"Does it get better?\" (Tạm dịch: \"Có phải mọi chuyện sẽ ổn không?\"). Sau khi trả lời được câu hỏi trên, ta có thể biết được tình hình về nguy cơ tự sát của thành phố nào đang khá hơn, thành phố nào đang ngày càng trầm trọng hơn. Từ đó ta có thêm cái nhìn rõ ràng về tình hình về vấn đề tự sát của riêng từng thành phố và thế giới nói chung."
   ]
  },
  {
   "cell_type": "markdown",
   "metadata": {},
   "source": [
    "Ở câu hỏi này, dĩ nhiên ta không thể vẽ biểu đồ cho tất cả $101$ thành phố được. Vì thế ta sẽ dùng mô hình hồi quy tuyến tính đơn giản \"$y = ax+b$\"  ($y$ là `crudeRateGeneral` còn $x$ là `year`) để đo độ tăng (giảm) của tỉ lệ tự sát qua các năm. Nếu $a$ càng dương thì tỉ lệ tăng càng lớn, nếu $a$ càng âm thì tỉ lệ giảm càng lớn."
   ]
  },
  {
   "cell_type": "markdown",
   "metadata": {},
   "source": [
    "Vì ta chỉ xét những thành phố có ít nhất $50\\%$ dữ liệu hợp lệ, ta chỉ giữ những dòng nào có ít nhất $16$ dữ liệu hợp lệ."
   ]
  },
  {
   "cell_type": "code",
   "execution_count": 21,
   "metadata": {},
   "outputs": [],
   "source": [
    "crudeRateGeneral.dropna(thresh=16, inplace=True)"
   ]
  },
  {
   "cell_type": "code",
   "execution_count": 22,
   "metadata": {},
   "outputs": [],
   "source": [
    "a = []\n",
    "for i in range(crudeRateGeneral.shape[0]):\n",
    "    # Lọc dòng thứ i (bỏ cột nào có giá trị NaN) rồi lưu vào Y\n",
    "    Y = crudeRateGeneral.iloc[[i]].dropna(axis=1)\n",
    "    # Lấy tên cột của Y lưu vào X\n",
    "    X = np.array(Y.columns)\n",
    "    # Chuyển vị Y rồi thêm cột 1 vào sau\n",
    "    Y = np.array(Y).T\n",
    "    Y = np.hstack((Y, np.ones(Y.shape)))\n",
    "    # Chuyển X thành ma trận 2 chiều\n",
    "    X = X.reshape((Y.shape[0], 1))\n",
    "    # Tìm ra đường hồi quy rồi lấy ra 'a' và append vào danh sách\n",
    "    a.append((LinearRegression().fit(X, Y).coef_)[0, 0])\n",
    "a = np.array(a) "
   ]
  },
  {
   "cell_type": "code",
   "execution_count": 23,
   "metadata": {},
   "outputs": [
    {
     "data": {
      "text/plain": [
       "country\n",
       "Estonia             -1.308874\n",
       "Latvia              -1.037742\n",
       "Lithuania           -0.933651\n",
       "Hungary             -0.783661\n",
       "Slovenia            -0.649019\n",
       "                       ...   \n",
       "Chile                0.268346\n",
       "Uruguay              0.312896\n",
       "Suriname             0.536502\n",
       "Guyana               0.925073\n",
       "Republic of Korea    0.930579\n",
       "Length: 81, dtype: float64"
      ]
     },
     "execution_count": 23,
     "metadata": {},
     "output_type": "execute_result"
    }
   ],
   "source": [
    "# Lưu kết quả vào Series result với index là các thành phố\n",
    "result = pd.Series(data=a, index=crudeRateGeneral.index)\n",
    "result.sort_values(inplace=True)\n",
    "result"
   ]
  },
  {
   "cell_type": "markdown",
   "metadata": {},
   "source": [
    "#### Vẽ biểu đồ"
   ]
  },
  {
   "cell_type": "code",
   "execution_count": 24,
   "metadata": {},
   "outputs": [
    {
     "data": {
      "image/png": "[encoded data removed]",
      "text/plain": [
       "<Figure size 720x1440 with 1 Axes>"
      ]
     },
     "metadata": {},
     "output_type": "display_data"
    }
   ],
   "source": [
    "plt.figure(figsize=[10, 20])\n",
    "for (value, index) in zip(result.values, result.index):\n",
    "    if value > 0:\n",
    "        plt.plot([0, value], [index, index], c='r')\n",
    "        plt.plot(value, index, 'r>')\n",
    "    else:\n",
    "        plt.plot([0, value], [index, index], c='g')\n",
    "        plt.plot(value, index, 'g<')\n",
    "plt.axvline(x=0, ls='--')\n",
    "plt.xlabel(\"Level of change in crude rate\");"
   ]
  },
  {
   "cell_type": "markdown",
   "metadata": {},
   "source": [
    "#### Từ biểu đồ, ta có thể đưa ra câu trả lời cho câu hỏi"
   ]
  },
  {
   "cell_type": "markdown",
   "metadata": {},
   "source": [
    "- Top 3 thành phố / quốc gia với tỉ lệ tự sát có xu hướng tăng mạnh nhất: Hàn Quốc, Guyana và Suriname.\n",
    "- Top 3 thành phố / quốc gia với tỉ lệ tự sát có xu hướng giảm mạnh nhất: Estonia, Latvia, Lithuania."
   ]
  },
  {
   "cell_type": "markdown",
   "metadata": {},
   "source": [
    "Một điểm thú vị là Lithuania dù là nước có tỉ lệ tự sát cao nhất kéo dài từ năm 1995 đến 2016, nhưng lại thuộc top 3 có tỉ lệ tự sát giảm mạnh nhất. Đây là một dấu hiệu đáng mừng cho đất nước này."
   ]
  },
  {
   "cell_type": "markdown",
   "metadata": {},
   "source": [
    "#### Trong số các thành phố có đủ dữ liệu, tỉ lệ thành phố có tỉ lệ tự sát có xu hướng tăng và giảm là bao nhiêu?"
   ]
  },
  {
   "cell_type": "code",
   "execution_count": 25,
   "metadata": {},
   "outputs": [
    {
     "name": "stdout",
     "output_type": "stream",
     "text": [
      "In valid countries, there are about 40.7% of countries with increasing crude rate and about 59.3% with decreasing crude rate\n"
     ]
    }
   ],
   "source": [
    "icr = np.round(np.mean(a > 0) * 100, 1)\n",
    "dcr = np.round(np.mean(a < 0) * 100, 1)\n",
    "print(\n",
    "    \"In valid countries, there are about {0}% of countries with increasing crude rate and about {1}% with decreasing crude rate\"\n",
    "    .format(icr, dcr))"
   ]
  },
  {
   "cell_type": "markdown",
   "metadata": {},
   "source": [
    "Đây có vẻ là con số khả quan khi có nhiều thành phố giảm tỉ lệ tự sát hơn là tăng."
   ]
  },
  {
   "cell_type": "markdown",
   "metadata": {},
   "source": [
    "### <span class=\"mark\">Câu hỏi 3</span> Biến `year` và `GDPcap` (trên từng quốc gia có ít nhất $50\\%$ dữ liệu hợp lệ) có quan hệ như thế nào?\n",
    "\n",
    "Ý nghĩa của câu hỏi này sẽ được rút ra sau khi trả lời."
   ]
  },
  {
   "cell_type": "markdown",
   "metadata": {},
   "source": [
    "Để trả lời câu hỏi này, ta cần tính mức độ tuyến tính (correlation coefficent) `r` của hai biến `year` và `GDPcap` trên từng thành phố. Nhưng trước hết ta cần trích ra `GDPcap` của mỗi thành phố cho từng năm và chỉ giữ những thành phố nào có ít nhất $50\\%$ dữ liệu hợp lệ."
   ]
  },
  {
   "cell_type": "code",
   "execution_count": 26,
   "metadata": {
    "scrolled": true
   },
   "outputs": [
    {
     "data": {
      "text/html": [
       "<div>\n",
       "<style scoped>\n",
       "    .dataframe tbody tr th:only-of-type {\n",
       "        vertical-align: middle;\n",
       "    }\n",
       "\n",
       "    .dataframe tbody tr th {\n",
       "        vertical-align: top;\n",
       "    }\n",
       "\n",
       "    .dataframe thead th {\n",
       "        text-align: right;\n",
       "    }\n",
       "</style>\n",
       "<table border=\"1\" class=\"dataframe\">\n",
       "  <thead>\n",
       "    <tr style=\"text-align: right;\">\n",
       "      <th>year</th>\n",
       "      <th>1985</th>\n",
       "      <th>1986</th>\n",
       "      <th>1987</th>\n",
       "      <th>1988</th>\n",
       "      <th>1989</th>\n",
       "      <th>1990</th>\n",
       "      <th>1991</th>\n",
       "      <th>1992</th>\n",
       "      <th>1993</th>\n",
       "      <th>1994</th>\n",
       "      <th>...</th>\n",
       "      <th>2007</th>\n",
       "      <th>2008</th>\n",
       "      <th>2009</th>\n",
       "      <th>2010</th>\n",
       "      <th>2011</th>\n",
       "      <th>2012</th>\n",
       "      <th>2013</th>\n",
       "      <th>2014</th>\n",
       "      <th>2015</th>\n",
       "      <th>2016</th>\n",
       "    </tr>\n",
       "    <tr>\n",
       "      <th>country</th>\n",
       "      <th></th>\n",
       "      <th></th>\n",
       "      <th></th>\n",
       "      <th></th>\n",
       "      <th></th>\n",
       "      <th></th>\n",
       "      <th></th>\n",
       "      <th></th>\n",
       "      <th></th>\n",
       "      <th></th>\n",
       "      <th></th>\n",
       "      <th></th>\n",
       "      <th></th>\n",
       "      <th></th>\n",
       "      <th></th>\n",
       "      <th></th>\n",
       "      <th></th>\n",
       "      <th></th>\n",
       "      <th></th>\n",
       "      <th></th>\n",
       "      <th></th>\n",
       "    </tr>\n",
       "  </thead>\n",
       "  <tbody>\n",
       "    <tr>\n",
       "      <th>Suriname</th>\n",
       "      <td>[2706]</td>\n",
       "      <td>[2731]</td>\n",
       "      <td>[2951]</td>\n",
       "      <td>[3418]</td>\n",
       "      <td>[1560]</td>\n",
       "      <td>[1114]</td>\n",
       "      <td>[1235]</td>\n",
       "      <td>[1093]</td>\n",
       "      <td>NaN</td>\n",
       "      <td>NaN</td>\n",
       "      <td>...</td>\n",
       "      <td>[6397]</td>\n",
       "      <td>[7601]</td>\n",
       "      <td>[8238]</td>\n",
       "      <td>[9176]</td>\n",
       "      <td>[9184]</td>\n",
       "      <td>[10227]</td>\n",
       "      <td>[10451]</td>\n",
       "      <td>[10530]</td>\n",
       "      <td>NaN</td>\n",
       "      <td>NaN</td>\n",
       "    </tr>\n",
       "    <tr>\n",
       "      <th>Kuwait</th>\n",
       "      <td>[14607]</td>\n",
       "      <td>[11661]</td>\n",
       "      <td>[13924]</td>\n",
       "      <td>NaN</td>\n",
       "      <td>NaN</td>\n",
       "      <td>NaN</td>\n",
       "      <td>NaN</td>\n",
       "      <td>NaN</td>\n",
       "      <td>[18798]</td>\n",
       "      <td>[17161]</td>\n",
       "      <td>...</td>\n",
       "      <td>[37283]</td>\n",
       "      <td>[43746]</td>\n",
       "      <td>[33453]</td>\n",
       "      <td>[35171]</td>\n",
       "      <td>[46203]</td>\n",
       "      <td>[49781]</td>\n",
       "      <td>[48729]</td>\n",
       "      <td>[43774]</td>\n",
       "      <td>NaN</td>\n",
       "      <td>NaN</td>\n",
       "    </tr>\n",
       "    <tr>\n",
       "      <th>Bulgaria</th>\n",
       "      <td>[2044]</td>\n",
       "      <td>[2413]</td>\n",
       "      <td>[3355]</td>\n",
       "      <td>[2688]</td>\n",
       "      <td>[2617]</td>\n",
       "      <td>[2451]</td>\n",
       "      <td>[1298]</td>\n",
       "      <td>[1287]</td>\n",
       "      <td>[1354]</td>\n",
       "      <td>[1213]</td>\n",
       "      <td>...</td>\n",
       "      <td>[6073]</td>\n",
       "      <td>[7487]</td>\n",
       "      <td>[7186]</td>\n",
       "      <td>[7066]</td>\n",
       "      <td>[8137]</td>\n",
       "      <td>[7745]</td>\n",
       "      <td>[8057]</td>\n",
       "      <td>[8241]</td>\n",
       "      <td>NaN</td>\n",
       "      <td>NaN</td>\n",
       "    </tr>\n",
       "    <tr>\n",
       "      <th>Sweden</th>\n",
       "      <td>NaN</td>\n",
       "      <td>NaN</td>\n",
       "      <td>[22813]</td>\n",
       "      <td>[25731]</td>\n",
       "      <td>[26978]</td>\n",
       "      <td>[32246]</td>\n",
       "      <td>[33623]</td>\n",
       "      <td>[34721]</td>\n",
       "      <td>[25880]</td>\n",
       "      <td>[27658]</td>\n",
       "      <td>...</td>\n",
       "      <td>[56531]</td>\n",
       "      <td>[59155]</td>\n",
       "      <td>[49070]</td>\n",
       "      <td>[55352]</td>\n",
       "      <td>[63380]</td>\n",
       "      <td>[60776]</td>\n",
       "      <td>[64133]</td>\n",
       "      <td>[62956]</td>\n",
       "      <td>[54629]</td>\n",
       "      <td>[55594]</td>\n",
       "    </tr>\n",
       "    <tr>\n",
       "      <th>Mauritius</th>\n",
       "      <td>[1223]</td>\n",
       "      <td>[1636]</td>\n",
       "      <td>[2073]</td>\n",
       "      <td>[2317]</td>\n",
       "      <td>[2349]</td>\n",
       "      <td>[2820]</td>\n",
       "      <td>[3045]</td>\n",
       "      <td>[3400]</td>\n",
       "      <td>[3405]</td>\n",
       "      <td>[3658]</td>\n",
       "      <td>...</td>\n",
       "      <td>[7179]</td>\n",
       "      <td>[8716]</td>\n",
       "      <td>[7873]</td>\n",
       "      <td>[8587]</td>\n",
       "      <td>[9817]</td>\n",
       "      <td>[9884]</td>\n",
       "      <td>[10572]</td>\n",
       "      <td>[11120]</td>\n",
       "      <td>[10125]</td>\n",
       "      <td>[10570]</td>\n",
       "    </tr>\n",
       "  </tbody>\n",
       "</table>\n",
       "<p>5 rows × 32 columns</p>\n",
       "</div>"
      ],
      "text/plain": [
       "year          1985     1986     1987     1988     1989     1990     1991  \\\n",
       "country                                                                    \n",
       "Suriname    [2706]   [2731]   [2951]   [3418]   [1560]   [1114]   [1235]   \n",
       "Kuwait     [14607]  [11661]  [13924]      NaN      NaN      NaN      NaN   \n",
       "Bulgaria    [2044]   [2413]   [3355]   [2688]   [2617]   [2451]   [1298]   \n",
       "Sweden         NaN      NaN  [22813]  [25731]  [26978]  [32246]  [33623]   \n",
       "Mauritius   [1223]   [1636]   [2073]   [2317]   [2349]   [2820]   [3045]   \n",
       "\n",
       "year          1992     1993     1994  ...     2007     2008     2009     2010  \\\n",
       "country                               ...                                       \n",
       "Suriname    [1093]      NaN      NaN  ...   [6397]   [7601]   [8238]   [9176]   \n",
       "Kuwait         NaN  [18798]  [17161]  ...  [37283]  [43746]  [33453]  [35171]   \n",
       "Bulgaria    [1287]   [1354]   [1213]  ...   [6073]   [7487]   [7186]   [7066]   \n",
       "Sweden     [34721]  [25880]  [27658]  ...  [56531]  [59155]  [49070]  [55352]   \n",
       "Mauritius   [3400]   [3405]   [3658]  ...   [7179]   [8716]   [7873]   [8587]   \n",
       "\n",
       "year          2011     2012     2013     2014     2015     2016  \n",
       "country                                                          \n",
       "Suriname    [9184]  [10227]  [10451]  [10530]      NaN      NaN  \n",
       "Kuwait     [46203]  [49781]  [48729]  [43774]      NaN      NaN  \n",
       "Bulgaria    [8137]   [7745]   [8057]   [8241]      NaN      NaN  \n",
       "Sweden     [63380]  [60776]  [64133]  [62956]  [54629]  [55594]  \n",
       "Mauritius   [9817]   [9884]  [10572]  [11120]  [10125]  [10570]  \n",
       "\n",
       "[5 rows x 32 columns]"
      ]
     },
     "execution_count": 26,
     "metadata": {},
     "output_type": "execute_result"
    }
   ],
   "source": [
    "GDPcap = gb_df.GDPcap.unique().unstack().dropna(thresh=16)\n",
    "GDPcap.sample(5)"
   ]
  },
  {
   "cell_type": "code",
   "execution_count": 27,
   "metadata": {},
   "outputs": [
    {
     "data": {
      "text/plain": [
       "0.8807841076160243"
      ]
     },
     "execution_count": 27,
     "metadata": {},
     "output_type": "execute_result"
    }
   ],
   "source": [
    "avg_r = 0\n",
    "for i in range(GDPcap.shape[0]):\n",
    "    # Trích dòng thứ i, loại bỏ NaN, chuyển list thành số rồi lưu vào X\n",
    "    X = GDPcap.iloc[i].dropna().apply(lambda x: x[0])\n",
    "    # Trích các index của X lưu vào Y\n",
    "    Y = np.array(X.index)\n",
    "    # Đưa X và y về đơn vị chuẩn\n",
    "    X = np.array((X - X.mean()) / X.std())\n",
    "    Y = (Y - Y.mean()) / Y.std()\n",
    "    # Cập nhật giá trị correllation trung bình\n",
    "    avg_r += np.mean(X * Y) / GDPcap.shape[0]\n",
    "avg_r"
   ]
  },
  {
   "cell_type": "markdown",
   "metadata": {},
   "source": [
    "Con số này cho thấy nhìn chung thì biến `GDPcap` có mối quan hệ tuyến tính đồng biến *mạnh* với biến `year`, hay nói cách khác là GDP bình quân đầu người của các thành phố nhìn chung đều tăng theo thời gian."
   ]
  },
  {
   "cell_type": "markdown",
   "metadata": {},
   "source": [
    "#### Rút ra được điều gì?"
   ]
  },
  {
   "cell_type": "markdown",
   "metadata": {},
   "source": [
    "Từ câu hỏi nhỏ trên ta rút ra được một sự thật là: chất lượng cuộc sống của người dân nhìn chung ngày càng được cải thiện. Tuy nhiên, theo biểu đồ ở <span class=\"burk\">Câu hỏi 2</span> tuỳ vào thành phố / quốc gia mà tỉ lệ tự sát tăng hay giảm. Có nghĩa là không phải lúc nào chất lượng cuộc sống tốt hơn đều khiến con người trở nên hạnh phúc hơn, hay nói đơn giản là: \"Không phải lúc nào tiền cũng làm bạn hạnh phúc\"."
   ]
  },
  {
   "cell_type": "markdown",
   "metadata": {},
   "source": [
    "### <span class=\"burk\">Câu hỏi 3</span> ***Qua các năm, nhóm tuổi nào có số lượng vụ tự sát nhiều nhất, có tỉ lệ tự sát cao nhất?***\n",
    "\n",
    "Ta đã biết rằng mỗi nhóm tuổi đều phải đối mặt với nhiều áp lực khác nhau. Khi trả lời được câu hỏi trên, ta biết được ảnh hưởng của những áp lực này lên từng nhóm tuổi là như thế nào."
   ]
  },
  {
   "cell_type": "code",
   "execution_count": 28,
   "metadata": {},
   "outputs": [],
   "source": [
    "gb_age_df = df.groupby(['year', 'age'])"
   ]
  },
  {
   "cell_type": "markdown",
   "metadata": {},
   "source": [
    "#### Tính tổng số vụ tự tử trên toàn cầu theo mỗi nhóm tuổi"
   ]
  },
  {
   "cell_type": "code",
   "execution_count": 29,
   "metadata": {},
   "outputs": [],
   "source": [
    "nsuicidesAge = gb_age_df.nsuicides.sum().unstack()"
   ]
  },
  {
   "cell_type": "markdown",
   "metadata": {},
   "source": [
    "#### Tính tỉ lệ tự tử trên toàn cầu theo mỗi nhóm tuổi"
   ]
  },
  {
   "cell_type": "code",
   "execution_count": 30,
   "metadata": {},
   "outputs": [],
   "source": [
    "crudeRateAge = (gb_age_df.nsuicides.sum() /\n",
    "                (gb_age_df.population.sum() / 100000)).unstack()"
   ]
  },
  {
   "cell_type": "markdown",
   "metadata": {},
   "source": [
    "#### Biểu diễn hai biểu đồ bằng các subplot"
   ]
  },
  {
   "cell_type": "code",
   "execution_count": 31,
   "metadata": {},
   "outputs": [
    {
     "data": {
      "image/png": "[encoded data removed]",
      "text/plain": [
       "<Figure size 1440x504 with 2 Axes>"
      ]
     },
     "metadata": {},
     "output_type": "display_data"
    }
   ],
   "source": [
    "plt.figure(figsize=[20, 7])\n",
    "plt.subplot(1, 2, 1)\n",
    "plt.plot(nsuicidesAge)\n",
    "plt.legend(nsuicidesAge.columns)\n",
    "plt.title(\"Change in number of suicides each age group\")\n",
    "plt.ylabel(\"Number of suicides\")\n",
    "plt.xlabel(\"Year\")\n",
    "plt.subplot(1, 2, 2)\n",
    "plt.plot(crudeRateAge)\n",
    "plt.legend(crudeRateAge.columns)\n",
    "plt.title(\"Change in crude rate each age group\")\n",
    "plt.ylabel(\"Crude rate\")\n",
    "plt.xlabel(\"Year\");"
   ]
  },
  {
   "cell_type": "markdown",
   "metadata": {},
   "source": [
    "#### Trả lời cho câu hỏi"
   ]
  },
  {
   "cell_type": "markdown",
   "metadata": {},
   "source": [
    "Ở đây có 2 nhóm tuổi đáng chú ý là nhóm \"35-54\" và nhóm \"75+\".\n",
    "- Nhóm \"35-54\" luôn có số ca tự tử cao nhất.\n",
    "- Nhóm \"75+\" luôn có tỉ lệ tự tử cao nhất."
   ]
  },
  {
   "cell_type": "markdown",
   "metadata": {},
   "source": [
    "#### Kết luận"
   ]
  },
  {
   "cell_type": "markdown",
   "metadata": {},
   "source": [
    "- Nếu có người chết vì tự tử thì khả năng cao người đó thuộc nhóm tuổi từ 35 đến 54.\n",
    "- Người thuộc nhóm tuổi 75+ có nguy cơ tự tử cao nhất."
   ]
  },
  {
   "cell_type": "markdown",
   "metadata": {},
   "source": [
    "### <span class=\"burk\">Câu hỏi 4</span> ***Trải qua các năm, tỉ lệ tự tử của nam hay nữ cao hơn và thay đổi như thế nào?***\n",
    "\n",
    "Người ta thường nói phụ nữ dễ trầm cảm hơn đàn ông, như vậy có phải nữ có nguy cơ tự tử nhiều hơn nam? Sau khi trả lời được câu hỏi trên, ta có thể biết thêm một sự thật thú vị về sự khác biệt giữa hai giới khi đối mặt với những vấn đề về tâm lý."
   ]
  },
  {
   "cell_type": "markdown",
   "metadata": {},
   "source": [
    "Để trả lời tổng quát cho câu hỏi này, ta lấy số ca tự tử của nam và của nữ, chia cho dân số nam và nữ trong từng năm."
   ]
  },
  {
   "cell_type": "code",
   "execution_count": 32,
   "metadata": {},
   "outputs": [],
   "source": [
    "gender_gb_df = df.groupby(['year', 'gender'])\n",
    "gender_rate = (gender_gb_df.nsuicides.sum() /\n",
    "               (gender_gb_df.population.sum() / 100000)).unstack()"
   ]
  },
  {
   "cell_type": "code",
   "execution_count": 33,
   "metadata": {},
   "outputs": [
    {
     "data": {
      "image/png": "[encoded data removed]",
      "text/plain": [
       "<Figure size 576x504 with 1 Axes>"
      ]
     },
     "metadata": {},
     "output_type": "display_data"
    }
   ],
   "source": [
    "plt.plot(gender_rate, marker='o')\n",
    "plt.legend(gender_rate.columns);"
   ]
  },
  {
   "cell_type": "markdown",
   "metadata": {},
   "source": [
    "#### Trả lời cho câu hỏi"
   ]
  },
  {
   "cell_type": "markdown",
   "metadata": {},
   "source": [
    "Từ biểu đồ ta có thể thấy:\n",
    "- Tỉ lệ tự tử của nữ nhìn chung là giảm.\n",
    "- Tỉ lệ tự tử của nam tăng lên cao nhất ở năm 1995 rồi có xu hướng giảm sau đó."
   ]
  },
  {
   "cell_type": "markdown",
   "metadata": {},
   "source": [
    "#### Rút ra được điều gì sau khi trả lời câu hỏi?"
   ]
  },
  {
   "cell_type": "markdown",
   "metadata": {},
   "source": [
    "Dù là trong thời gian nào, đàn ông luôn có nguy cơ tự tử cao hơn phụ nữ. ***Vì sao lại vậy nhỉ?***\n",
    "\n",
    "Trích trong [Bài về tự sát của Wikipedia](https://vi.wikipedia.org/wiki/T%E1%BB%B1_s%C3%A1t#Gi%E1%BB%9Bi_t%C3%ADnh)\n",
    ">Nam giới bị chết bởi tự sát nhiều hơn nữ giới, mặc dù nữ giới lại cố gắng tự sát nhiều hơn. Một số chuyên gia xã hội cho rằng nam giới tự sát nhiều hơn do bất cân bằng luật pháp giữa hai giới tính\n",
    "\n",
    ">Trong The Eclipse: A Memoir of Suicide, tác giả Antonella Gambotto-Burke báo cáo rằng ở những nước phương Tây, nam giới đang dẫn đầu \"tỷ lệ tự hủy diệt\" (chiếm 40% tổng số các vụ tự sát) và \"nguyên nhân của quyết định tự sát thường là do cuộc sống cách ly, thất nghiệp và nợ nần. Giới tính nam có bản chất là (hoạt động) chinh phục... Biểu hiện của cái gốc tự trọng trong nam giới là họ bỏ qua mọi xúc cảm đơn thể (sự chinh phục đòi hỏi phải có 1 đối tác). Một người đàn ông không thể cảm thấy mình là đàn ông nếu họ không có 1 đối tác, một đoàn thể hoặc một nhóm. Nam tính là một trò được chơi trên bình diện đối xứng. Do đó, ý nghĩa của nam giới tự tan rã khi đối tác vắng mặt.\""
   ]
  },
  {
   "cell_type": "markdown",
   "metadata": {},
   "source": [
    "---"
   ]
  },
  {
   "cell_type": "markdown",
   "metadata": {},
   "source": [
    "# Nhìn lại quá trình làm đồ án"
   ]
  },
  {
   "cell_type": "markdown",
   "metadata": {},
   "source": [
    "### Khó khăn"
   ]
  },
  {
   "cell_type": "markdown",
   "metadata": {},
   "source": [
    "- Tìm ra câu hỏi có ý nghĩa\n",
    "- Tìm ra được dạng biểu đồ hợp lí cho <span class=\"burk\">Câu hỏi 2</span>"
   ]
  },
  {
   "cell_type": "markdown",
   "metadata": {},
   "source": [
    "### Đã học được những gì"
   ]
  },
  {
   "cell_type": "markdown",
   "metadata": {},
   "source": [
    "- Sử dụng các thư viện Numpy, Pandas và Matplotlib hiệu quả hơn\n",
    "- Biết được những kiến thức xã hội như cách phân biệt thế hệ (generation), vấn đề tự tử của các nước..."
   ]
  },
  {
   "cell_type": "markdown",
   "metadata": {},
   "source": [
    "# Tài liệu tham khảo"
   ]
  },
  {
   "cell_type": "markdown",
   "metadata": {},
   "source": [
    "[Hey you!! Suicide is not a solution](https://www.kaggle.com/snanilim/hey-you-suicide-is-not-a-solution)\n",
    "\n",
    "[Suicides over different perspectives](https://www.kaggle.com/papeloto/suicides-over-different-perspectives)\n",
    "\n",
    "[The Whys and Hows of Generations Research](https://www.pewresearch.org/politics/2015/09/03/the-whys-and-hows-of-generations-research/)\n",
    "\n",
    "[Bài về tự sát của Wikipedia](https://vi.wikipedia.org/wiki/T%E1%BB%B1_s%C3%A1t#Gi%E1%BB%9Bi_t%C3%ADnh)"
   ]
  }
 ],
 "metadata": {
  "kernelspec": {
   "display_name": "Python 3",
   "language": "python",
   "name": "python3"
  },
  "language_info": {
   "codemirror_mode": {
    "name": "ipython",
    "version": 3
   },
   "file_extension": ".py",
   "mimetype": "text/x-python",
   "name": "python",
   "nbconvert_exporter": "python",
   "pygments_lexer": "ipython3",
   "version": "3.7.7"
  },
  "toc": {
   "base_numbering": 1,
   "nav_menu": {
    "height": "645px",
    "width": "664px"
   },
   "number_sections": true,
   "sideBar": true,
   "skip_h1_title": false,
   "title_cell": "Table of Contents",
   "title_sidebar": "Contents",
   "toc_cell": false,
   "toc_position": {
    "height": "calc(100% - 180px)",
    "left": "10px",
    "top": "150px",
    "width": "176.867px"
   },
   "toc_section_display": true,
   "toc_window_display": false
  }
 },
 "nbformat": 4,
 "nbformat_minor": 4
}
